{
  "nbformat": 4,
  "nbformat_minor": 0,
  "metadata": {
    "colab": {
      "name": "Final_ Working_Experimental_Model_Mamun_2019_ResNet101.ipynb",
      "provenance": [],
      "collapsed_sections": []
    },
    "kernelspec": {
      "display_name": "Python 3",
      "name": "python3"
    },
    "language_info": {
      "name": "python"
    }
  },
  "cells": [
    {
      "cell_type": "code",
      "metadata": {
        "colab": {
          "base_uri": "https://localhost:8080/",
          "height": 17
        },
        "id": "lDUuG7oRW75u",
        "outputId": "8cea4521-25ab-4f19-d557-cfdd4f0c1814"
      },
      "source": [
        "from IPython.core.display import display, HTML\n",
        "display(HTML(\"<style>.container { width:95% !important; }</style>\"))"
      ],
      "execution_count": null,
      "outputs": [
        {
          "output_type": "display_data",
          "data": {
            "text/html": [
              "<style>.container { width:95% !important; }</style>"
            ],
            "text/plain": [
              "<IPython.core.display.HTML object>"
            ]
          },
          "metadata": {
            "tags": []
          }
        }
      ]
    },
    {
      "cell_type": "code",
      "metadata": {
        "id": "M9vmgl97Pv_u"
      },
      "source": [
        "#Import libraries\n",
        "import numpy as np\n",
        "import pandas as pd\n",
        "import itertools\n",
        "import keras\n",
        "import matplotlib.pyplot as plt\n",
        "import tensorflow as tf\n",
        "from tensorflow.keras import backend, models, layers, optimizers, regularizers\n",
        "from tensorflow.keras.utils import to_categorical\n",
        "from tensorflow.keras.layers import BatchNormalization\n",
        "from tensorflow.keras.callbacks import EarlyStopping\n",
        "from keras.preprocessing.image import ImageDataGenerator, img_to_array, load_img\n",
        "from sklearn.model_selection import train_test_split # This method ended up not being used\n",
        "from sklearn import metrics\n",
        "from sklearn.metrics import confusion_matrix\n",
        "from IPython.display import display # This library ended up not being used.\n",
        "from PIL import Image # This library was used to help view images\n",
        "from tensorflow.keras.preprocessing.image import ImageDataGenerator # This library was used for data augmentation\n",
        "import os, shutil # This libraries were used to create file connections\n",
        "import cv2\n",
        "np.random.seed(42)\n",
        "\n",
        "import pandas as pd\n",
        "import numpy as np\n",
        "import itertools\n",
        "import keras \n",
        "from sklearn import metrics\n",
        "from sklearn.metrics import confusion_matrix\n",
        "from keras.preprocessing.image import ImageDataGenerator, img_to_array, load_img\n",
        "from keras.models import Sequential\n",
        "from keras import optimizers \n",
        "from keras.preprocessing import image\n",
        "from keras.layers import Dropout, Flatten, Dense\n",
        "from keras import applications\n",
        "from keras.utils.np_utils import to_categorical\n",
        "import matplotlib.pyplot as plt\n",
        "import matplotlib.image as mpimg\n",
        "%matplotlib inline\n",
        "import math\n",
        "import datetime\n",
        "import time\n",
        "import tensorflow as tf"
      ],
      "execution_count": null,
      "outputs": []
    },
    {
      "cell_type": "code",
      "metadata": {
        "id": "dEaSe2OmXCCu"
      },
      "source": [
        "backend.clear_session()"
      ],
      "execution_count": null,
      "outputs": []
    },
    {
      "cell_type": "code",
      "metadata": {
        "colab": {
          "base_uri": "https://localhost:8080/"
        },
        "id": "Hv-GnVGOXGky",
        "outputId": "74e996ab-1c67-41df-8554-4c9741731c3f"
      },
      "source": [
        "from google.colab import drive\n",
        "drive.mount('/gdrive')"
      ],
      "execution_count": null,
      "outputs": [
        {
          "output_type": "stream",
          "text": [
            "Drive already mounted at /gdrive; to attempt to forcibly remount, call drive.mount(\"/gdrive\", force_remount=True).\n"
          ],
          "name": "stdout"
        }
      ]
    },
    {
      "cell_type": "code",
      "metadata": {
        "id": "8o6w0AcKXJRn"
      },
      "source": [
        "# Specify the base directory where images are located.  You need to save your data here.\n",
        "base_dir = '/gdrive/My Drive/Regis/Karoo/Ctrl_Data_Slim/'"
      ],
      "execution_count": null,
      "outputs": []
    },
    {
      "cell_type": "code",
      "metadata": {
        "id": "uPzq5rWYeY7Z"
      },
      "source": [
        "# https://towardsdatascience.com/a-simple-cnn-multi-image-classifier-31c463324fa"
      ],
      "execution_count": null,
      "outputs": []
    },
    {
      "cell_type": "code",
      "metadata": {
        "id": "NINbBUgGZ10o"
      },
      "source": [
        "# Creating dimensions and connecting to images \n",
        "# The default dimensions for the Animal_10 dataset\n",
        "img_width, img_height = 224, 224\n",
        "\n",
        "#Bottleneck File\n",
        "top_model_weights_path = '/gdrive/My Drive/Regis/Karoo/bottleneck_fc_model.h5/'\n",
        "\n",
        "# loading up our datasets\n",
        "train_data_dir = '/gdrive/My Drive/Regis/Karoo/Exp_Data_Slim/Train'\n",
        "validation_data_dir = '/gdrive/My Drive/Regis/Karoo/Exp_Data_Slim/Val'\n",
        "test_data_dir = '/gdrive/My Drive/Regis/Karoo/Exp_Data_Slim/Test'\n",
        "\n",
        "\n",
        "epochs = 30 \n",
        "batch_size = 10 "
      ],
      "execution_count": null,
      "outputs": []
    },
    {
      "cell_type": "code",
      "metadata": {
        "id": "EAWbU4_NcoCx"
      },
      "source": [
        "# Loading ResNet101 \n",
        "ResNet101 = applications.ResNet101(include_top=False, weights='imagenet', input_shape = (224, 224, 3))\n",
        "\n",
        "datagen = ImageDataGenerator(rescale=1. / 255)\n",
        "# needed to create the bottleneck .npy files"
      ],
      "execution_count": null,
      "outputs": []
    },
    {
      "cell_type": "code",
      "metadata": {
        "colab": {
          "base_uri": "https://localhost:8080/"
        },
        "id": "tq6Ao2AWa-F_",
        "outputId": "ffd2396b-d937-4163-ed5a-d20777b3d850"
      },
      "source": [
        "# Creating Training Data\n",
        "start = datetime.datetime.now()\n",
        "\n",
        "generator = datagen.flow_from_directory(\n",
        "    train_data_dir,\n",
        "    target_size=(img_width, img_height),\n",
        "    batch_size=batch_size,\n",
        "    class_mode=None,\n",
        "    shuffle=False)\n",
        "\n",
        "nb_train_samples = len(generator.filenames)\n",
        "num_classes = len(generator.class_indices)\n",
        "\n",
        "predict_size_train = int(math.ceil(nb_train_samples / batch_size))\n",
        "\n",
        "bottleneck_features_train = ResNet101.predict_generator(generator,\n",
        "                                                    predict_size_train)\n",
        "\n",
        "np.save('bottleneck_features_train.npy', bottleneck_features_train)\n",
        "end = datetime.datetime.now()\n",
        "elapsed = end-start\n",
        "print ('Time: ', elapsed)"
      ],
      "execution_count": null,
      "outputs": [
        {
          "output_type": "stream",
          "text": [
            "Found 773 images belonging to 9 classes.\n"
          ],
          "name": "stdout"
        },
        {
          "output_type": "stream",
          "text": [
            "/usr/local/lib/python3.7/dist-packages/tensorflow/python/keras/engine/training.py:1905: UserWarning: `Model.predict_generator` is deprecated and will be removed in a future version. Please use `Model.predict`, which supports generators.\n",
            "  warnings.warn('`Model.predict_generator` is deprecated and '\n"
          ],
          "name": "stderr"
        },
        {
          "output_type": "stream",
          "text": [
            "Time:  0:04:11.780088\n"
          ],
          "name": "stdout"
        }
      ]
    },
    {
      "cell_type": "code",
      "metadata": {
        "colab": {
          "base_uri": "https://localhost:8080/"
        },
        "id": "aykk4fFCQvXs",
        "outputId": "887ac10d-174f-43f1-dad5-9571a569c46f"
      },
      "source": [
        "#Creating Validation Data\n",
        "start = datetime.datetime.now()\n",
        "\n",
        "generator = datagen.flow_from_directory(\n",
        "    validation_data_dir,\n",
        "    target_size=(img_width, img_height),\n",
        "    batch_size=batch_size,\n",
        "    class_mode=None,\n",
        "    shuffle=False)\n",
        "\n",
        "nb_val_samples = len(generator.filenames)\n",
        "num_classes = len(generator.class_indices)\n",
        "\n",
        "predict_size_val = int(math.ceil(nb_val_samples / batch_size))\n",
        "\n",
        "bottleneck_features_val = ResNet101.predict_generator(generator,\n",
        "                                                    predict_size_val)\n",
        "\n",
        "np.save('bottleneck_features_val.npy', bottleneck_features_val)\n",
        "end = datetime.datetime.now()\n",
        "elapsed = end-start\n",
        "print ('Time: ', elapsed)"
      ],
      "execution_count": null,
      "outputs": [
        {
          "output_type": "stream",
          "text": [
            "Found 194 images belonging to 9 classes.\n"
          ],
          "name": "stdout"
        },
        {
          "output_type": "stream",
          "text": [
            "/usr/local/lib/python3.7/dist-packages/tensorflow/python/keras/engine/training.py:1905: UserWarning: `Model.predict_generator` is deprecated and will be removed in a future version. Please use `Model.predict`, which supports generators.\n",
            "  warnings.warn('`Model.predict_generator` is deprecated and '\n"
          ],
          "name": "stderr"
        },
        {
          "output_type": "stream",
          "text": [
            "Time:  0:01:01.806503\n"
          ],
          "name": "stdout"
        }
      ]
    },
    {
      "cell_type": "code",
      "metadata": {
        "colab": {
          "base_uri": "https://localhost:8080/"
        },
        "id": "0Bb3Xnx-Rtuz",
        "outputId": "ed14ccfb-3cca-498b-a858-37db375fe9ba"
      },
      "source": [
        "# Creating Test Data\n",
        "start = datetime.datetime.now()\n",
        "\n",
        "generator = datagen.flow_from_directory(\n",
        "    test_data_dir,\n",
        "    target_size=(img_width, img_height),\n",
        "    batch_size=batch_size,\n",
        "    class_mode=None,\n",
        "    shuffle=False)\n",
        "\n",
        "nb_test_samples = len(generator.filenames)\n",
        "num_classes = len(generator.class_indices)\n",
        "\n",
        "predict_size_test = int(math.ceil(nb_test_samples / batch_size))\n",
        "\n",
        "bottleneck_features_test = ResNet101.predict_generator(generator,\n",
        "                                                    predict_size_test)\n",
        "\n",
        "np.save('bottleneck_features_test.npy', bottleneck_features_test)\n",
        "end = datetime.datetime.now()\n",
        "elapsed = end-start\n",
        "print ('Time: ', elapsed)"
      ],
      "execution_count": null,
      "outputs": [
        {
          "output_type": "stream",
          "text": [
            "Found 243 images belonging to 9 classes.\n"
          ],
          "name": "stdout"
        },
        {
          "output_type": "stream",
          "text": [
            "/usr/local/lib/python3.7/dist-packages/tensorflow/python/keras/engine/training.py:1905: UserWarning: `Model.predict_generator` is deprecated and will be removed in a future version. Please use `Model.predict`, which supports generators.\n",
            "  warnings.warn('`Model.predict_generator` is deprecated and '\n"
          ],
          "name": "stderr"
        },
        {
          "output_type": "stream",
          "text": [
            "Time:  0:02:45.728981\n"
          ],
          "name": "stdout"
        }
      ]
    },
    {
      "cell_type": "code",
      "metadata": {
        "colab": {
          "base_uri": "https://localhost:8080/"
        },
        "id": "f6g9PEc6fhhP",
        "outputId": "78767e4a-c682-4503-c444-8dd37ccfd453"
      },
      "source": [
        "# Processing Training Data \n",
        "train_generator_top = datagen.flow_from_directory(\n",
        "    train_data_dir,\n",
        "    target_size = (img_width, img_height),\n",
        "    batch_size = batch_size,\n",
        "    class_mode = 'categorical',\n",
        "    shuffle=False)\n",
        "\n",
        "nb_train_samples = len(train_generator_top.filenames)\n",
        "num_classes = len(train_generator_top.class_indices)\n",
        "\n",
        "# load the bottleneck features saved earlier\n",
        "train_data = np.load('bottleneck_features_train.npy')\n",
        "\n",
        "# get the class labels for the training data, in the original order\n",
        "train_labels = train_generator_top.classes\n",
        "\n",
        "# convert the training labels to categorical vectors\n",
        "train_labels = to_categorical(train_labels, num_classes=num_classes)"
      ],
      "execution_count": null,
      "outputs": [
        {
          "output_type": "stream",
          "text": [
            "Found 773 images belonging to 9 classes.\n"
          ],
          "name": "stdout"
        }
      ]
    },
    {
      "cell_type": "code",
      "metadata": {
        "colab": {
          "base_uri": "https://localhost:8080/"
        },
        "id": "RwjaILgCFGfA",
        "outputId": "60df693c-8cc0-48c0-92d7-723d8497e2ed"
      },
      "source": [
        "# Processing Validation Data \n",
        "validation_generator_top = datagen.flow_from_directory(\n",
        "    validation_data_dir,\n",
        "    target_size = (img_width, img_height),\n",
        "    batch_size = batch_size,\n",
        "    class_mode = 'categorical',\n",
        "    shuffle=False)\n",
        "\n",
        "nb_val_samples = len(validation_generator_top.filenames)\n",
        "num_classes = len(validation_generator_top.class_indices)\n",
        "\n",
        "# load the bottleneck features saved earlier\n",
        "val_data = np.load('bottleneck_features_val.npy')\n",
        "\n",
        "# get the class labels for the training data, in the original order\n",
        "val_labels = validation_generator_top.classes\n",
        "\n",
        "# convert the training labels to categorical vectors\n",
        "val_labels = to_categorical(val_labels, num_classes=num_classes)"
      ],
      "execution_count": null,
      "outputs": [
        {
          "output_type": "stream",
          "text": [
            "Found 194 images belonging to 9 classes.\n"
          ],
          "name": "stdout"
        }
      ]
    },
    {
      "cell_type": "code",
      "metadata": {
        "colab": {
          "base_uri": "https://localhost:8080/"
        },
        "id": "jjQixOGPIlUK",
        "outputId": "ea2cda74-e072-4624-f532-38924548037c"
      },
      "source": [
        "# Processing Test Data \n",
        "test_generator_top = datagen.flow_from_directory(\n",
        "    test_data_dir,\n",
        "    target_size = (img_width, img_height),\n",
        "    batch_size = batch_size,\n",
        "    class_mode = 'categorical',\n",
        "    shuffle=False)\n",
        "\n",
        "nb_test_samples = len(test_generator_top.filenames)\n",
        "num_classes = len(test_generator_top.class_indices)\n",
        "\n",
        "# load the bottleneck features saved earlier\n",
        "test_data = np.load('bottleneck_features_test.npy')\n",
        "\n",
        "# get the class labels for the training data, in the original order\n",
        "test_labels = test_generator_top.classes\n",
        "\n",
        "# convert the training labels to categorical vectors\n",
        "test_labels = to_categorical(test_labels, num_classes=num_classes)"
      ],
      "execution_count": null,
      "outputs": [
        {
          "output_type": "stream",
          "text": [
            "Found 243 images belonging to 9 classes.\n"
          ],
          "name": "stdout"
        }
      ]
    },
    {
      "cell_type": "code",
      "metadata": {
        "colab": {
          "base_uri": "https://localhost:8080/"
        },
        "id": "NzwT2n0AMBu7",
        "outputId": "2a5931d2-d20d-4002-dcbf-72ccdc6c9670"
      },
      "source": [
        "# Creating our Convolutional Neural Network Code: \n",
        "start = datetime.datetime.now()\n",
        "model = Sequential()\n",
        "model.add (Flatten (input_shape=train_data.shape[1:]))\n",
        "model.add(Dense (100, activation=keras.layers.LeakyReLU(alpha=0.3)))\n",
        "model.add(Dropout(0.5))\n",
        "model.add(Dense(50, activation=keras.layers.LeakyReLU(alpha=0.3)))\n",
        "model.add(Dropout (0.3))\n",
        "model.add(Dense(num_classes, activation='softmax'))\n",
        "\n",
        "model.compile(loss='categorical_crossentropy',\n",
        "              optimizer=optimizers.RMSprop(lr=1e-4),\n",
        "              metrics=['acc'])\n",
        "\n",
        "history = model.fit(train_data, train_labels,\n",
        "                    epochs=epochs,\n",
        "                    batch_size=batch_size,\n",
        "                    validation_data=(val_data, val_labels))\n",
        "\n",
        "model.save_weights(top_model_weights_path)\n",
        "\n",
        "(eval_loss, eval_accuracy) = model.evaluate(\n",
        "    val_data, val_labels, batch_size=batch_size, verbose=1)\n",
        "\n",
        "print(\"[INFO] accuracy: {:.2f}%\".format(eval_accuracy * 100))\n",
        "print(\"[INFO] Loss: {}\".format(eval_loss))\n",
        "end= datetime.datetime.now()\n",
        "elapsed= end-start\n",
        "print ('Time: ', elapsed)"
      ],
      "execution_count": null,
      "outputs": [
        {
          "output_type": "stream",
          "text": [
            "Epoch 1/30\n",
            "78/78 [==============================] - 7s 84ms/step - loss: 3.1557 - acc: 0.1750 - val_loss: 2.2934 - val_acc: 0.2371\n",
            "Epoch 2/30\n",
            "78/78 [==============================] - 6s 81ms/step - loss: 2.5441 - acc: 0.2301 - val_loss: 2.9006 - val_acc: 0.2113\n",
            "Epoch 3/30\n",
            "78/78 [==============================] - 6s 81ms/step - loss: 2.4058 - acc: 0.2565 - val_loss: 2.1851 - val_acc: 0.2320\n",
            "Epoch 4/30\n",
            "78/78 [==============================] - 6s 82ms/step - loss: 2.3280 - acc: 0.2557 - val_loss: 2.1564 - val_acc: 0.3196\n",
            "Epoch 5/30\n",
            "78/78 [==============================] - 6s 83ms/step - loss: 2.4158 - acc: 0.2849 - val_loss: 1.8501 - val_acc: 0.3402\n",
            "Epoch 6/30\n",
            "78/78 [==============================] - 6s 81ms/step - loss: 2.1847 - acc: 0.2932 - val_loss: 1.6679 - val_acc: 0.4794\n",
            "Epoch 7/30\n",
            "78/78 [==============================] - 6s 81ms/step - loss: 2.1161 - acc: 0.3291 - val_loss: 1.8926 - val_acc: 0.3918\n",
            "Epoch 8/30\n",
            "78/78 [==============================] - 6s 81ms/step - loss: 2.1545 - acc: 0.3201 - val_loss: 1.7180 - val_acc: 0.4691\n",
            "Epoch 9/30\n",
            "78/78 [==============================] - 6s 81ms/step - loss: 2.0953 - acc: 0.3242 - val_loss: 2.1328 - val_acc: 0.2680\n",
            "Epoch 10/30\n",
            "78/78 [==============================] - 6s 82ms/step - loss: 2.1330 - acc: 0.3374 - val_loss: 1.8752 - val_acc: 0.3660\n",
            "Epoch 11/30\n",
            "78/78 [==============================] - 6s 82ms/step - loss: 2.0258 - acc: 0.3404 - val_loss: 1.6997 - val_acc: 0.4794\n",
            "Epoch 12/30\n",
            "78/78 [==============================] - 6s 81ms/step - loss: 1.9940 - acc: 0.4005 - val_loss: 2.0171 - val_acc: 0.3144\n",
            "Epoch 13/30\n",
            "78/78 [==============================] - 6s 82ms/step - loss: 2.0418 - acc: 0.3402 - val_loss: 1.7093 - val_acc: 0.4278\n",
            "Epoch 14/30\n",
            "78/78 [==============================] - 6s 82ms/step - loss: 1.9139 - acc: 0.3988 - val_loss: 2.7912 - val_acc: 0.1959\n",
            "Epoch 15/30\n",
            "78/78 [==============================] - 6s 81ms/step - loss: 2.0093 - acc: 0.3742 - val_loss: 1.8789 - val_acc: 0.4536\n",
            "Epoch 16/30\n",
            "78/78 [==============================] - 6s 82ms/step - loss: 1.9323 - acc: 0.3920 - val_loss: 2.1924 - val_acc: 0.3505\n",
            "Epoch 17/30\n",
            "78/78 [==============================] - 6s 82ms/step - loss: 1.8747 - acc: 0.4364 - val_loss: 2.0632 - val_acc: 0.3505\n",
            "Epoch 18/30\n",
            "78/78 [==============================] - 6s 82ms/step - loss: 1.8625 - acc: 0.4163 - val_loss: 1.8079 - val_acc: 0.4021\n",
            "Epoch 19/30\n",
            "78/78 [==============================] - 6s 82ms/step - loss: 1.9562 - acc: 0.3877 - val_loss: 1.6652 - val_acc: 0.4691\n",
            "Epoch 20/30\n",
            "78/78 [==============================] - 6s 82ms/step - loss: 1.9203 - acc: 0.4094 - val_loss: 1.7568 - val_acc: 0.4124\n",
            "Epoch 21/30\n",
            "78/78 [==============================] - 6s 83ms/step - loss: 1.8077 - acc: 0.4276 - val_loss: 1.7215 - val_acc: 0.4536\n",
            "Epoch 22/30\n",
            "78/78 [==============================] - 6s 82ms/step - loss: 1.9076 - acc: 0.4251 - val_loss: 1.9623 - val_acc: 0.3866\n",
            "Epoch 23/30\n",
            "78/78 [==============================] - 6s 81ms/step - loss: 1.9109 - acc: 0.4189 - val_loss: 1.6121 - val_acc: 0.4948\n",
            "Epoch 24/30\n",
            "78/78 [==============================] - 6s 82ms/step - loss: 1.8804 - acc: 0.4145 - val_loss: 2.1411 - val_acc: 0.2526\n",
            "Epoch 25/30\n",
            "78/78 [==============================] - 6s 82ms/step - loss: 1.7815 - acc: 0.4261 - val_loss: 1.5617 - val_acc: 0.5000\n",
            "Epoch 26/30\n",
            "78/78 [==============================] - 6s 81ms/step - loss: 1.8685 - acc: 0.3911 - val_loss: 1.8075 - val_acc: 0.4381\n",
            "Epoch 27/30\n",
            "78/78 [==============================] - 6s 82ms/step - loss: 1.6520 - acc: 0.4632 - val_loss: 1.8727 - val_acc: 0.3505\n",
            "Epoch 28/30\n",
            "78/78 [==============================] - 6s 81ms/step - loss: 1.7794 - acc: 0.4138 - val_loss: 1.5640 - val_acc: 0.4742\n",
            "Epoch 29/30\n",
            "78/78 [==============================] - 6s 82ms/step - loss: 1.7697 - acc: 0.4450 - val_loss: 1.8292 - val_acc: 0.4433\n",
            "Epoch 30/30\n",
            "78/78 [==============================] - 6s 82ms/step - loss: 1.7664 - acc: 0.4513 - val_loss: 2.0445 - val_acc: 0.2938\n",
            "20/20 [==============================] - 0s 10ms/step - loss: 2.0445 - acc: 0.2938\n",
            "[INFO] accuracy: 29.38%\n",
            "[INFO] Loss: 2.0444839000701904\n",
            "Time:  0:03:13.715734\n"
          ],
          "name": "stdout"
        }
      ]
    },
    {
      "cell_type": "code",
      "metadata": {
        "colab": {
          "base_uri": "https://localhost:8080/",
          "height": 573
        },
        "id": "BYcrD3APLDAS",
        "outputId": "7d2352db-0598-487f-b993-2d1691864a51"
      },
      "source": [
        "# Code for visulization of the Accuracy and Loss: \n",
        "# Graphing our training and validation \n",
        "acc = history.history['acc']\n",
        "val_acc = history.history['val_acc']\n",
        "loss = history.history['loss']\n",
        "val_loss = history.history['val_loss']\n",
        "epochs = range(len(acc))\n",
        "plt.plot(epochs, acc, 'r', label='Training acc')\n",
        "plt.plot(epochs, val_acc, 'b', label='Validation acc')\n",
        "plt.title('Training and validation accuracy')\n",
        "plt.ylabel('accuracy')\n",
        "plt.xlabel('epoch')\n",
        "plt.legend()\n",
        "plt.xlabel('epoch')\n",
        "plt.legend()\n",
        "plt.figure()\n",
        "plt.plot(epochs, loss, 'r', label='Training loss')\n",
        "plt.plot(epochs, val_loss, 'b', label = 'Validation loss')\n",
        "plt.title('Training and validation loss')\n",
        "plt.ylabel('loss')\n",
        "plt.xlabel('epoch')\n",
        "plt.legend()\n",
        "plt.show()"
      ],
      "execution_count": null,
      "outputs": [
        {
          "output_type": "display_data",
          "data": {
            "image/png": "[encoded data removed]",
            "text/plain": [
              "<Figure size 432x288 with 1 Axes>"
            ]
          },
          "metadata": {
            "tags": [],
            "needs_background": "light"
          }
        },
        {
          "output_type": "display_data",
          "data": {
            "image/png": "[encoded data removed]",
            "text/plain": [
              "<Figure size 432x288 with 1 Axes>"
            ]
          },
          "metadata": {
            "tags": [],
            "needs_background": "light"
          }
        }
      ]
    },
    {
      "cell_type": "code",
      "metadata": {
        "colab": {
          "base_uri": "https://localhost:8080/"
        },
        "id": "v8pHXMS8PFHl",
        "outputId": "8f87c9bd-b07e-450b-fe7c-86677ada0505"
      },
      "source": [
        "model.evaluate(test_data, test_labels)"
      ],
      "execution_count": null,
      "outputs": [
        {
          "output_type": "stream",
          "text": [
            "8/8 [==============================] - 0s 19ms/step - loss: 1.9432 - acc: 0.3251\n"
          ],
          "name": "stdout"
        },
        {
          "output_type": "execute_result",
          "data": {
            "text/plain": [
              "[1.9432306289672852, 0.32510289549827576]"
            ]
          },
          "metadata": {
            "tags": []
          },
          "execution_count": 28
        }
      ]
    },
    {
      "cell_type": "code",
      "metadata": {
        "colab": {
          "base_uri": "https://localhost:8080/"
        },
        "id": "_MCmGI2rPSO5",
        "outputId": "14922a92-41f6-4915-9215-035c454953cf"
      },
      "source": [
        "preds = np.round(model.predict(test_data),0)\n",
        "print('rounded test_labels', preds)"
      ],
      "execution_count": null,
      "outputs": [
        {
          "output_type": "stream",
          "text": [
            "rounded test_labels [[0. 0. 0. ... 0. 0. 0.]\n",
            " [1. 0. 0. ... 0. 0. 0.]\n",
            " [0. 0. 0. ... 0. 0. 0.]\n",
            " ...\n",
            " [0. 0. 0. ... 0. 0. 0.]\n",
            " [0. 0. 0. ... 0. 0. 0.]\n",
            " [0. 0. 0. ... 0. 0. 0.]]\n"
          ],
          "name": "stdout"
        }
      ]
    },
    {
      "cell_type": "code",
      "metadata": {
        "colab": {
          "base_uri": "https://localhost:8080/"
        },
        "id": "XVBjWIjqP7S7",
        "outputId": "25e41f86-fa01-4783-fa6a-b4015f8f9813"
      },
      "source": [
        "animals = ['ELND', 'ELDF', 'ELDR', 'KDUB', 'KUDF', 'KUDR', 'MNTZ', 'MTZF', 'MTZR']\n",
        "classification_metrics = metrics.classification_report(test_labels, preds, target_names=animals )\n",
        "print(classification_metrics)"
      ],
      "execution_count": null,
      "outputs": [
        {
          "output_type": "stream",
          "text": [
            "              precision    recall  f1-score   support\n",
            "\n",
            "        ELND       0.67      0.11      0.18        57\n",
            "        ELDF       0.16      0.72      0.26        18\n",
            "        ELDR       0.00      0.00      0.00        12\n",
            "        KDUB       1.00      0.25      0.39        57\n",
            "        KUDF       0.60      0.21      0.32        14\n",
            "        KUDR       0.00      0.00      0.00        10\n",
            "        MNTZ       0.76      0.49      0.60        51\n",
            "        MTZF       0.00      0.00      0.00        15\n",
            "        MTZR       0.00      0.00      0.00         9\n",
            "\n",
            "   micro avg       0.42      0.25      0.32       243\n",
            "   macro avg       0.35      0.20      0.19       243\n",
            "weighted avg       0.60      0.25      0.30       243\n",
            " samples avg       0.25      0.25      0.25       243\n",
            "\n"
          ],
          "name": "stdout"
        },
        {
          "output_type": "stream",
          "text": [
            "/usr/local/lib/python3.7/dist-packages/sklearn/metrics/_classification.py:1272: UndefinedMetricWarning: Precision and F-score are ill-defined and being set to 0.0 in labels with no predicted samples. Use `zero_division` parameter to control this behavior.\n",
            "  _warn_prf(average, modifier, msg_start, len(result))\n",
            "/usr/local/lib/python3.7/dist-packages/sklearn/metrics/_classification.py:1272: UndefinedMetricWarning: Precision and F-score are ill-defined and being set to 0.0 in samples with no predicted labels. Use `zero_division` parameter to control this behavior.\n",
            "  _warn_prf(average, modifier, msg_start, len(result))\n"
          ],
          "name": "stderr"
        }
      ]
    },
    {
      "cell_type": "code",
      "metadata": {
        "id": "AVDcXCUkQ41J"
      },
      "source": [
        "# Creating our confusion matrix\n",
        "\n",
        "categorical_test_labels = pd.DataFrame(test_labels).idxmax(axis=1)\n",
        "categorical_preds = pd.DataFrame(preds).idxmax(axis=1)\n",
        "confusion_matrix = confusion_matrix(categorical_test_labels, categorical_preds)\n",
        "\n",
        "# Displaying the confusion matrix:\n",
        "\n",
        "def plot_confusion_matrix(cm, classes,\n",
        "                          normalize=False,\n",
        "                          title='Confusion matrix',\n",
        "                          cmap=plt.cm.Blues):\n",
        "\n",
        "# Creating the option for normalization:\n",
        "  if normalize:\n",
        "    cm = cm.astype('float') / cm.sum(axis=1) [:, np.newaxis]\n",
        "    print(\"Normalized confusion matrix\")\n",
        "  else: \n",
        "    print('Confusion matrix, without normalization')\n",
        "\n",
        "# Printing the confusion matrix\n",
        "\n",
        "  plt.imshow(cm, interpolation='nearest', cmap=cmap)\n",
        "  plt.title(title)\n",
        "  plt.colorbar()\n",
        "  tick_marks = np.arange(len(classes))\n",
        "  plt.xticks(tick_marks, classes, rotation=45)\n",
        "  plt.yticks(tick_marks, classes)\n",
        "\n",
        "  fmt = '.2f' if normalize else 'd'\n",
        "  thresh = cm.max() / 2.\n",
        "  for i, j in itertools.product(range(cm.shape[0]), range(cm.shape[1])):\n",
        "      plt.text(j, i, format(cm[i, j], fmt), horizontalalignment=\"center\", color=\"white\" if cm[i, j] > thresh else \"black\")\n",
        "  plt.tight_layout()\n",
        "  plt.ylabel('True label')\n",
        "  plt.xlabel('Predicted label') "
      ],
      "execution_count": null,
      "outputs": []
    },
    {
      "cell_type": "code",
      "metadata": {
        "colab": {
          "base_uri": "https://localhost:8080/",
          "height": 328
        },
        "id": "j4QSubrrXwiu",
        "outputId": "313253ed-f70d-41a5-f5cf-2b349b822acd"
      },
      "source": [
        "# Plotting the confusion matrix\n",
        "plot_confusion_matrix(confusion_matrix, ['ELND', 'ELDF', 'ELDR', 'KDUB', 'KUDF', 'KUDR', 'MNTZ', 'MTZF', 'MTZR'], normalize=True)"
      ],
      "execution_count": null,
      "outputs": [
        {
          "output_type": "stream",
          "text": [
            "Normalized confusion matrix\n"
          ],
          "name": "stdout"
        },
        {
          "output_type": "display_data",
          "data": {
            "image/png": "[encoded data removed]",
            "text/plain": [
              "<Figure size 432x288 with 2 Axes>"
            ]
          },
          "metadata": {
            "tags": [],
            "needs_background": "light"
          }
        }
      ]
    },
    {
      "cell_type": "markdown",
      "metadata": {
        "id": "jokCA0tVolyQ"
      },
      "source": [
        "Mamun, Iftekher (April 7th, 2019) A Simple CNN: Multi Image Classifier. [Towards Data Science] Retrieved from: https://towardsdatascience.com/a-simple-cnn-multi-image-classifier-31c463324fa"
      ]
    }
  ]
}