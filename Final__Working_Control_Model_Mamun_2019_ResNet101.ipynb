{
  "nbformat": 4,
  "nbformat_minor": 0,
  "metadata": {
    "colab": {
      "name": "Final_ Working_Control_Model_Mamun_2019_ResNet101.ipynb",
      "provenance": [],
      "collapsed_sections": []
    },
    "kernelspec": {
      "display_name": "Python 3",
      "name": "python3"
    },
    "language_info": {
      "name": "python"
    }
  },
  "cells": [
    {
      "cell_type": "code",
      "metadata": {
        "colab": {
          "base_uri": "https://localhost:8080/",
          "height": 16
        },
        "id": "lDUuG7oRW75u",
        "outputId": "37887648-2a28-46b4-c4a3-5630ae4e6f22"
      },
      "source": [
        "from IPython.core.display import display, HTML\n",
        "display(HTML(\"<style>.container { width:95% !important; }</style>\"))"
      ],
      "execution_count": null,
      "outputs": [
        {
          "output_type": "display_data",
          "data": {
            "text/html": [
              "<style>.container { width:95% !important; }</style>"
            ],
            "text/plain": [
              "<IPython.core.display.HTML object>"
            ]
          },
          "metadata": {
            "tags": []
          }
        }
      ]
    },
    {
      "cell_type": "code",
      "metadata": {
        "id": "M9vmgl97Pv_u"
      },
      "source": [
        "#Import libraries\n",
        "import numpy as np\n",
        "import pandas as pd\n",
        "import itertools\n",
        "import keras\n",
        "import matplotlib.pyplot as plt\n",
        "import tensorflow as tf\n",
        "from tensorflow.keras import backend, models, layers, optimizers, regularizers\n",
        "from tensorflow.keras.utils import to_categorical\n",
        "from tensorflow.keras.layers import BatchNormalization\n",
        "from tensorflow.keras.callbacks import EarlyStopping\n",
        "from keras.preprocessing.image import ImageDataGenerator, img_to_array, load_img\n",
        "from sklearn.model_selection import train_test_split # This method ended up not being used\n",
        "from sklearn import metrics\n",
        "from sklearn.metrics import confusion_matrix\n",
        "from IPython.display import display # This library ended up not being used.\n",
        "from PIL import Image # This library was used to help view images\n",
        "from tensorflow.keras.preprocessing.image import ImageDataGenerator # This library was used for data augmentation\n",
        "import os, shutil # This libraries were used to create file connections\n",
        "import cv2\n",
        "np.random.seed(42)\n",
        "\n",
        "import pandas as pd\n",
        "import numpy as np\n",
        "import itertools\n",
        "import keras \n",
        "from sklearn import metrics\n",
        "from sklearn.metrics import confusion_matrix\n",
        "from keras.preprocessing.image import ImageDataGenerator, img_to_array, load_img\n",
        "from keras.models import Sequential\n",
        "from keras import optimizers \n",
        "from keras.preprocessing import image\n",
        "from keras.layers import Dropout, Flatten, Dense\n",
        "from keras import applications\n",
        "from keras.utils.np_utils import to_categorical\n",
        "import matplotlib.pyplot as plt\n",
        "import matplotlib.image as mpimg\n",
        "%matplotlib inline\n",
        "import math\n",
        "import datetime\n",
        "import time\n",
        "import tensorflow as tf"
      ],
      "execution_count": null,
      "outputs": []
    },
    {
      "cell_type": "code",
      "metadata": {
        "id": "dEaSe2OmXCCu"
      },
      "source": [
        "backend.clear_session()"
      ],
      "execution_count": null,
      "outputs": []
    },
    {
      "cell_type": "code",
      "metadata": {
        "colab": {
          "base_uri": "https://localhost:8080/"
        },
        "id": "Hv-GnVGOXGky",
        "outputId": "5c90edc5-d0a5-48dc-c757-0eb220788da6"
      },
      "source": [
        "from google.colab import drive\n",
        "drive.mount('/gdrive')"
      ],
      "execution_count": null,
      "outputs": [
        {
          "output_type": "stream",
          "text": [
            "Mounted at /gdrive\n"
          ],
          "name": "stdout"
        }
      ]
    },
    {
      "cell_type": "code",
      "metadata": {
        "id": "8o6w0AcKXJRn"
      },
      "source": [
        "# Specify the base directory where images are located.  You need to save your data here.\n",
        "base_dir = '/gdrive/My Drive/Regis/Karoo/Ctrl_Data_Slim/'"
      ],
      "execution_count": null,
      "outputs": []
    },
    {
      "cell_type": "code",
      "metadata": {
        "id": "uPzq5rWYeY7Z"
      },
      "source": [
        "# https://towardsdatascience.com/a-simple-cnn-multi-image-classifier-31c463324fa"
      ],
      "execution_count": null,
      "outputs": []
    },
    {
      "cell_type": "code",
      "metadata": {
        "id": "NINbBUgGZ10o"
      },
      "source": [
        "# Creating dimensions and connecting to images \n",
        "# The default dimensions for the Animal_10 dataset\n",
        "img_width, img_height = 224, 224\n",
        "\n",
        "#Bottleneck File\n",
        "top_model_weights_path = '/gdrive/My Drive/Regis/Karoo/bottleneck_fc_model.h5/'\n",
        "\n",
        "# loading up our datasets\n",
        "train_data_dir = '/gdrive/My Drive/Regis/Karoo/Ctrl_Data_Slim/Train'\n",
        "validation_data_dir = '/gdrive/My Drive/Regis/Karoo/Ctrl_Data_Slim/Val'\n",
        "test_data_dir = '/gdrive/My Drive/Regis/Karoo/Ctrl_Data_Slim/Test'\n",
        "\n",
        "\n",
        "epochs = 30 \n",
        "batch_size = 10 "
      ],
      "execution_count": null,
      "outputs": []
    },
    {
      "cell_type": "code",
      "metadata": {
        "id": "EAWbU4_NcoCx",
        "colab": {
          "base_uri": "https://localhost:8080/"
        },
        "outputId": "c672245a-4c25-4973-8603-7b59c03ba787"
      },
      "source": [
        "# Loading ResNet101 \n",
        "ResNet101 = applications.ResNet101(include_top=False, weights='imagenet', input_shape = (224, 224, 3))\n",
        "\n",
        "datagen = ImageDataGenerator(rescale=1. / 255)\n",
        "# needed to create the bottleneck .npy files"
      ],
      "execution_count": null,
      "outputs": [
        {
          "output_type": "stream",
          "text": [
            "Downloading data from https://storage.googleapis.com/tensorflow/keras-applications/resnet/resnet101_weights_tf_dim_ordering_tf_kernels_notop.h5\n",
            "171450368/171446536 [==============================] - 2s 0us/step\n"
          ],
          "name": "stdout"
        }
      ]
    },
    {
      "cell_type": "code",
      "metadata": {
        "colab": {
          "base_uri": "https://localhost:8080/"
        },
        "id": "tq6Ao2AWa-F_",
        "outputId": "9e952847-ab76-4974-93b0-f7c79ead443d"
      },
      "source": [
        "# Creating Training Data\n",
        "start = datetime.datetime.now()\n",
        "\n",
        "generator = datagen.flow_from_directory(\n",
        "    train_data_dir,\n",
        "    target_size=(img_width, img_height),\n",
        "    batch_size=batch_size,\n",
        "    class_mode=None,\n",
        "    shuffle=False)\n",
        "\n",
        "nb_train_samples = len(generator.filenames)\n",
        "num_classes = len(generator.class_indices)\n",
        "\n",
        "predict_size_train = int(math.ceil(nb_train_samples / batch_size))\n",
        "\n",
        "bottleneck_features_train = ResNet101.predict_generator(generator,\n",
        "                                                    predict_size_train)\n",
        "\n",
        "np.save('bottleneck_features_train.npy', bottleneck_features_train)\n",
        "end = datetime.datetime.now()\n",
        "elapsed = end-start\n",
        "print ('Time: ', elapsed)"
      ],
      "execution_count": null,
      "outputs": [
        {
          "output_type": "stream",
          "text": [
            "Found 788 images belonging to 3 classes.\n"
          ],
          "name": "stdout"
        },
        {
          "output_type": "stream",
          "text": [
            "/usr/local/lib/python3.7/dist-packages/tensorflow/python/keras/engine/training.py:1905: UserWarning: `Model.predict_generator` is deprecated and will be removed in a future version. Please use `Model.predict`, which supports generators.\n",
            "  warnings.warn('`Model.predict_generator` is deprecated and '\n"
          ],
          "name": "stderr"
        },
        {
          "output_type": "stream",
          "text": [
            "Time:  0:11:15.049515\n"
          ],
          "name": "stdout"
        }
      ]
    },
    {
      "cell_type": "code",
      "metadata": {
        "colab": {
          "base_uri": "https://localhost:8080/"
        },
        "id": "aykk4fFCQvXs",
        "outputId": "537cb464-bb10-43ee-8748-7b0478446ee7"
      },
      "source": [
        "#Creating Validation Data\n",
        "start = datetime.datetime.now()\n",
        "\n",
        "generator = datagen.flow_from_directory(\n",
        "    validation_data_dir,\n",
        "    target_size=(img_width, img_height),\n",
        "    batch_size=batch_size,\n",
        "    class_mode=None,\n",
        "    shuffle=False)\n",
        "\n",
        "nb_val_samples = len(generator.filenames)\n",
        "num_classes = len(generator.class_indices)\n",
        "\n",
        "predict_size_val = int(math.ceil(nb_val_samples / batch_size))\n",
        "\n",
        "bottleneck_features_val = ResNet101.predict_generator(generator,\n",
        "                                                    predict_size_val)\n",
        "\n",
        "np.save('bottleneck_features_val.npy', bottleneck_features_val)\n",
        "end = datetime.datetime.now()\n",
        "elapsed = end-start\n",
        "print ('Time: ', elapsed)"
      ],
      "execution_count": null,
      "outputs": [
        {
          "output_type": "stream",
          "text": [
            "Found 197 images belonging to 3 classes.\n"
          ],
          "name": "stdout"
        },
        {
          "output_type": "stream",
          "text": [
            "/usr/local/lib/python3.7/dist-packages/tensorflow/python/keras/engine/training.py:1905: UserWarning: `Model.predict_generator` is deprecated and will be removed in a future version. Please use `Model.predict`, which supports generators.\n",
            "  warnings.warn('`Model.predict_generator` is deprecated and '\n"
          ],
          "name": "stderr"
        },
        {
          "output_type": "stream",
          "text": [
            "Time:  0:02:43.636500\n"
          ],
          "name": "stdout"
        }
      ]
    },
    {
      "cell_type": "code",
      "metadata": {
        "id": "0Bb3Xnx-Rtuz",
        "colab": {
          "base_uri": "https://localhost:8080/"
        },
        "outputId": "a13f4436-eea3-45b5-9ed5-8cc37dfda7ce"
      },
      "source": [
        "# Creating Test Data\n",
        "start = datetime.datetime.now()\n",
        "\n",
        "generator = datagen.flow_from_directory(\n",
        "    test_data_dir,\n",
        "    target_size=(img_width, img_height),\n",
        "    batch_size=batch_size,\n",
        "    class_mode=None,\n",
        "    shuffle=False)\n",
        "\n",
        "nb_test_samples = len(generator.filenames)\n",
        "num_classes = len(generator.class_indices)\n",
        "\n",
        "predict_size_test = int(math.ceil(nb_test_samples / batch_size))\n",
        "\n",
        "bottleneck_features_test = ResNet101.predict_generator(generator,\n",
        "                                                    predict_size_test)\n",
        "\n",
        "np.save('bottleneck_features_test.npy', bottleneck_features_test)\n",
        "end = datetime.datetime.now()\n",
        "elapsed = end-start\n",
        "print ('Time: ', elapsed)"
      ],
      "execution_count": null,
      "outputs": [
        {
          "output_type": "stream",
          "text": [
            "Found 246 images belonging to 3 classes.\n"
          ],
          "name": "stdout"
        },
        {
          "output_type": "stream",
          "text": [
            "/usr/local/lib/python3.7/dist-packages/tensorflow/python/keras/engine/training.py:1905: UserWarning: `Model.predict_generator` is deprecated and will be removed in a future version. Please use `Model.predict`, which supports generators.\n",
            "  warnings.warn('`Model.predict_generator` is deprecated and '\n"
          ],
          "name": "stderr"
        },
        {
          "output_type": "stream",
          "text": [
            "Time:  0:03:19.724791\n"
          ],
          "name": "stdout"
        }
      ]
    },
    {
      "cell_type": "code",
      "metadata": {
        "colab": {
          "base_uri": "https://localhost:8080/"
        },
        "id": "f6g9PEc6fhhP",
        "outputId": "5460b08f-a825-4127-ab70-97edd88179cc"
      },
      "source": [
        "# Processing Training Data \n",
        "train_generator_top = datagen.flow_from_directory(\n",
        "    train_data_dir,\n",
        "    target_size = (img_width, img_height),\n",
        "    batch_size = batch_size,\n",
        "    class_mode = 'categorical',\n",
        "    shuffle=False)\n",
        "\n",
        "nb_train_samples = len(train_generator_top.filenames)\n",
        "num_classes = len(train_generator_top.class_indices)\n",
        "\n",
        "# load the bottleneck features saved earlier\n",
        "train_data = np.load('bottleneck_features_train.npy')\n",
        "\n",
        "# get the class labels for the training data, in the original order\n",
        "train_labels = train_generator_top.classes\n",
        "\n",
        "# convert the training labels to categorical vectors\n",
        "train_labels = to_categorical(train_labels, num_classes=num_classes)"
      ],
      "execution_count": null,
      "outputs": [
        {
          "output_type": "stream",
          "text": [
            "Found 788 images belonging to 3 classes.\n"
          ],
          "name": "stdout"
        }
      ]
    },
    {
      "cell_type": "code",
      "metadata": {
        "id": "RwjaILgCFGfA",
        "colab": {
          "base_uri": "https://localhost:8080/"
        },
        "outputId": "fed2f294-709f-460e-a327-f6c1cacf9541"
      },
      "source": [
        "# Processing Validation Data \n",
        "validation_generator_top = datagen.flow_from_directory(\n",
        "    validation_data_dir,\n",
        "    target_size = (img_width, img_height),\n",
        "    batch_size = batch_size,\n",
        "    class_mode = 'categorical',\n",
        "    shuffle=False)\n",
        "\n",
        "nb_val_samples = len(validation_generator_top.filenames)\n",
        "num_classes = len(validation_generator_top.class_indices)\n",
        "\n",
        "# load the bottleneck features saved earlier\n",
        "val_data = np.load('bottleneck_features_val.npy')\n",
        "\n",
        "# get the class labels for the training data, in the original order\n",
        "val_labels = validation_generator_top.classes\n",
        "\n",
        "# convert the training labels to categorical vectors\n",
        "val_labels = to_categorical(val_labels, num_classes=num_classes)"
      ],
      "execution_count": null,
      "outputs": [
        {
          "output_type": "stream",
          "text": [
            "Found 197 images belonging to 3 classes.\n"
          ],
          "name": "stdout"
        }
      ]
    },
    {
      "cell_type": "code",
      "metadata": {
        "colab": {
          "base_uri": "https://localhost:8080/"
        },
        "id": "jjQixOGPIlUK",
        "outputId": "c2cef89a-cc80-4577-a2d0-8171d74350a5"
      },
      "source": [
        "# Processing Test Data \n",
        "test_generator_top = datagen.flow_from_directory(\n",
        "    test_data_dir,\n",
        "    target_size = (img_width, img_height),\n",
        "    batch_size = batch_size,\n",
        "    class_mode = 'categorical',\n",
        "    shuffle=False)\n",
        "\n",
        "nb_test_samples = len(test_generator_top.filenames)\n",
        "num_classes = len(test_generator_top.class_indices)\n",
        "\n",
        "# load the bottleneck features saved earlier\n",
        "test_data = np.load('bottleneck_features_test.npy')\n",
        "\n",
        "# get the class labels for the training data, in the original order\n",
        "test_labels = test_generator_top.classes\n",
        "\n",
        "# convert the training labels to categorical vectors\n",
        "test_labels = to_categorical(test_labels, num_classes=num_classes)"
      ],
      "execution_count": null,
      "outputs": [
        {
          "output_type": "stream",
          "text": [
            "Found 246 images belonging to 3 classes.\n"
          ],
          "name": "stdout"
        }
      ]
    },
    {
      "cell_type": "code",
      "metadata": {
        "colab": {
          "base_uri": "https://localhost:8080/"
        },
        "id": "NzwT2n0AMBu7",
        "outputId": "97191cbb-b671-4857-dc37-3dfe9a1b95f6"
      },
      "source": [
        "# Creating our Convolutional Neural Network Code: \n",
        "start = datetime.datetime.now()\n",
        "model = Sequential()\n",
        "model.add (Flatten (input_shape=train_data.shape[1:]))\n",
        "model.add(Dense (100, activation=keras.layers.LeakyReLU(alpha=0.3)))\n",
        "model.add(Dropout(0.5))\n",
        "model.add(Dense(50, activation=keras.layers.LeakyReLU(alpha=0.3)))\n",
        "model.add(Dropout (0.3))\n",
        "model.add(Dense(num_classes, activation='softmax'))\n",
        "\n",
        "model.compile(loss='categorical_crossentropy',\n",
        "              optimizer=optimizers.RMSprop(lr=1e-4),\n",
        "              metrics=['acc'])\n",
        "\n",
        "history = model.fit(train_data, train_labels,\n",
        "                    epochs=epochs,\n",
        "                    batch_size=batch_size,\n",
        "                    validation_data=(val_data, val_labels))\n",
        "\n",
        "model.save_weights(top_model_weights_path)\n",
        "\n",
        "(eval_loss, eval_accuracy) = model.evaluate(\n",
        "    val_data, val_labels, batch_size=batch_size, verbose=1)\n",
        "\n",
        "print(\"[INFO] accuracy: {:.2f}%\".format(eval_accuracy * 100))\n",
        "print(\"[INFO] Loss: {}\".format(eval_loss))\n",
        "end= datetime.datetime.now()\n",
        "elapsed= end-start\n",
        "print ('Time: ', elapsed)"
      ],
      "execution_count": null,
      "outputs": [
        {
          "output_type": "stream",
          "text": [
            "Epoch 1/30\n",
            "79/79 [==============================] - 8s 92ms/step - loss: 2.0778 - acc: 0.3271 - val_loss: 1.3300 - val_acc: 0.3503\n",
            "Epoch 2/30\n",
            "79/79 [==============================] - 7s 86ms/step - loss: 1.6007 - acc: 0.4135 - val_loss: 1.1176 - val_acc: 0.5533\n",
            "Epoch 3/30\n",
            "79/79 [==============================] - 7s 87ms/step - loss: 1.5447 - acc: 0.4174 - val_loss: 0.9265 - val_acc: 0.5381\n",
            "Epoch 4/30\n",
            "79/79 [==============================] - 7s 87ms/step - loss: 1.4580 - acc: 0.4443 - val_loss: 1.0051 - val_acc: 0.5127\n",
            "Epoch 5/30\n",
            "79/79 [==============================] - 7s 87ms/step - loss: 1.3651 - acc: 0.4842 - val_loss: 1.2024 - val_acc: 0.4772\n",
            "Epoch 6/30\n",
            "79/79 [==============================] - 7s 86ms/step - loss: 1.3380 - acc: 0.4650 - val_loss: 1.3467 - val_acc: 0.4772\n",
            "Epoch 7/30\n",
            "79/79 [==============================] - 7s 86ms/step - loss: 1.3674 - acc: 0.4773 - val_loss: 1.8918 - val_acc: 0.4721\n",
            "Epoch 8/30\n",
            "79/79 [==============================] - 7s 87ms/step - loss: 1.3483 - acc: 0.5237 - val_loss: 0.9478 - val_acc: 0.5330\n",
            "Epoch 9/30\n",
            "79/79 [==============================] - 7s 87ms/step - loss: 1.2508 - acc: 0.4984 - val_loss: 0.8513 - val_acc: 0.5990\n",
            "Epoch 10/30\n",
            "79/79 [==============================] - 7s 87ms/step - loss: 1.2081 - acc: 0.5612 - val_loss: 1.1909 - val_acc: 0.5076\n",
            "Epoch 11/30\n",
            "79/79 [==============================] - 7s 88ms/step - loss: 1.3090 - acc: 0.5068 - val_loss: 0.8175 - val_acc: 0.6142\n",
            "Epoch 12/30\n",
            "79/79 [==============================] - 7s 87ms/step - loss: 1.1341 - acc: 0.5473 - val_loss: 0.9463 - val_acc: 0.5533\n",
            "Epoch 13/30\n",
            "79/79 [==============================] - 7s 88ms/step - loss: 1.1753 - acc: 0.5488 - val_loss: 1.2239 - val_acc: 0.4518\n",
            "Epoch 14/30\n",
            "79/79 [==============================] - 7s 87ms/step - loss: 1.1467 - acc: 0.5795 - val_loss: 0.8819 - val_acc: 0.5939\n",
            "Epoch 15/30\n",
            "79/79 [==============================] - 7s 87ms/step - loss: 1.1398 - acc: 0.5296 - val_loss: 0.8442 - val_acc: 0.6041\n",
            "Epoch 16/30\n",
            "79/79 [==============================] - 7s 87ms/step - loss: 1.0862 - acc: 0.5587 - val_loss: 0.9945 - val_acc: 0.5533\n",
            "Epoch 17/30\n",
            "79/79 [==============================] - 7s 88ms/step - loss: 1.1763 - acc: 0.5744 - val_loss: 0.9431 - val_acc: 0.6041\n",
            "Epoch 18/30\n",
            "79/79 [==============================] - 7s 87ms/step - loss: 1.1570 - acc: 0.5716 - val_loss: 0.8149 - val_acc: 0.6244\n",
            "Epoch 19/30\n",
            "79/79 [==============================] - 7s 86ms/step - loss: 1.1613 - acc: 0.5422 - val_loss: 0.9163 - val_acc: 0.5939\n",
            "Epoch 20/30\n",
            "79/79 [==============================] - 7s 88ms/step - loss: 1.0097 - acc: 0.5945 - val_loss: 0.9642 - val_acc: 0.5990\n",
            "Epoch 21/30\n",
            "79/79 [==============================] - 7s 88ms/step - loss: 1.0161 - acc: 0.6128 - val_loss: 0.7273 - val_acc: 0.6802\n",
            "Epoch 22/30\n",
            "79/79 [==============================] - 7s 87ms/step - loss: 1.0101 - acc: 0.6246 - val_loss: 1.0174 - val_acc: 0.5584\n",
            "Epoch 23/30\n",
            "79/79 [==============================] - 7s 87ms/step - loss: 1.1109 - acc: 0.5722 - val_loss: 0.8876 - val_acc: 0.5838\n",
            "Epoch 24/30\n",
            "79/79 [==============================] - 7s 86ms/step - loss: 1.0543 - acc: 0.5730 - val_loss: 0.8536 - val_acc: 0.6142\n",
            "Epoch 25/30\n",
            "79/79 [==============================] - 7s 87ms/step - loss: 1.0233 - acc: 0.5970 - val_loss: 0.8173 - val_acc: 0.6294\n",
            "Epoch 26/30\n",
            "79/79 [==============================] - 7s 87ms/step - loss: 1.0338 - acc: 0.5967 - val_loss: 1.1421 - val_acc: 0.5838\n",
            "Epoch 27/30\n",
            "79/79 [==============================] - 7s 87ms/step - loss: 1.0806 - acc: 0.6303 - val_loss: 0.7399 - val_acc: 0.6853\n",
            "Epoch 28/30\n",
            "79/79 [==============================] - 7s 88ms/step - loss: 0.9121 - acc: 0.6214 - val_loss: 0.8202 - val_acc: 0.5685\n",
            "Epoch 29/30\n",
            "79/79 [==============================] - 7s 88ms/step - loss: 1.0381 - acc: 0.6004 - val_loss: 0.8244 - val_acc: 0.5990\n",
            "Epoch 30/30\n",
            "79/79 [==============================] - 7s 88ms/step - loss: 0.9915 - acc: 0.5902 - val_loss: 0.8669 - val_acc: 0.5990\n",
            "20/20 [==============================] - 0s 10ms/step - loss: 0.8669 - acc: 0.5990\n",
            "[INFO] accuracy: 59.90%\n",
            "[INFO] Loss: 0.8668724894523621\n",
            "Time:  0:03:28.677100\n"
          ],
          "name": "stdout"
        }
      ]
    },
    {
      "cell_type": "code",
      "metadata": {
        "id": "BYcrD3APLDAS",
        "colab": {
          "base_uri": "https://localhost:8080/",
          "height": 573
        },
        "outputId": "175e6861-e038-4358-a9bb-76c160acb305"
      },
      "source": [
        "# Code for visulization of the Accuracy and Loss: \n",
        "# Graphing our training and validation \n",
        "acc = history.history['acc']\n",
        "val_acc = history.history['val_acc']\n",
        "loss = history.history['loss']\n",
        "val_loss = history.history['val_loss']\n",
        "epochs = range(len(acc))\n",
        "plt.plot(epochs, acc, 'r', label='Training acc')\n",
        "plt.plot(epochs, val_acc, 'b', label='Validation acc')\n",
        "plt.title('Training and validation accuracy')\n",
        "plt.ylabel('accuracy')\n",
        "plt.xlabel('epoch')\n",
        "plt.legend()\n",
        "plt.xlabel('epoch')\n",
        "plt.legend()\n",
        "plt.figure()\n",
        "plt.plot(epochs, loss, 'r', label='Training loss')\n",
        "plt.plot(epochs, val_loss, 'b', label = 'Validation loss')\n",
        "plt.title('Training and validation loss')\n",
        "plt.ylabel('loss')\n",
        "plt.xlabel('epoch')\n",
        "plt.legend()\n",
        "plt.show()"
      ],
      "execution_count": null,
      "outputs": [
        {
          "output_type": "display_data",
          "data": {
            "image/png": "[encoded data removed]",
            "text/plain": [
              "<Figure size 432x288 with 1 Axes>"
            ]
          },
          "metadata": {
            "tags": [],
            "needs_background": "light"
          }
        },
        {
          "output_type": "display_data",
          "data": {
            "image/png": "[encoded data removed]",
            "text/plain": [
              "<Figure size 432x288 with 1 Axes>"
            ]
          },
          "metadata": {
            "tags": [],
            "needs_background": "light"
          }
        }
      ]
    },
    {
      "cell_type": "code",
      "metadata": {
        "id": "v8pHXMS8PFHl",
        "colab": {
          "base_uri": "https://localhost:8080/"
        },
        "outputId": "d8b07db2-ef33-4ec8-b3ee-0bd8e8832cf3"
      },
      "source": [
        "model.evaluate(test_data, test_labels)"
      ],
      "execution_count": null,
      "outputs": [
        {
          "output_type": "stream",
          "text": [
            "8/8 [==============================] - 0s 15ms/step - loss: 0.7943 - acc: 0.6382\n"
          ],
          "name": "stdout"
        },
        {
          "output_type": "execute_result",
          "data": {
            "text/plain": [
              "[0.7942678332328796, 0.6382113695144653]"
            ]
          },
          "metadata": {
            "tags": []
          },
          "execution_count": 17
        }
      ]
    },
    {
      "cell_type": "code",
      "metadata": {
        "id": "_MCmGI2rPSO5",
        "colab": {
          "base_uri": "https://localhost:8080/"
        },
        "outputId": "558e088f-71bb-4083-f2c5-ba2fc087ffb6"
      },
      "source": [
        "preds = np.round(model.predict(test_data),0)\n",
        "print('rounded test_labels', preds)"
      ],
      "execution_count": null,
      "outputs": [
        {
          "output_type": "stream",
          "text": [
            "rounded test_labels [[0. 0. 0.]\n",
            " [1. 0. 0.]\n",
            " [1. 0. 0.]\n",
            " [1. 0. 0.]\n",
            " [1. 0. 0.]\n",
            " [1. 0. 0.]\n",
            " [0. 0. 0.]\n",
            " [1. 0. 0.]\n",
            " [1. 0. 0.]\n",
            " [0. 0. 0.]\n",
            " [0. 0. 0.]\n",
            " [0. 0. 0.]\n",
            " [1. 0. 0.]\n",
            " [0. 0. 1.]\n",
            " [1. 0. 0.]\n",
            " [0. 0. 0.]\n",
            " [1. 0. 0.]\n",
            " [0. 0. 0.]\n",
            " [1. 0. 0.]\n",
            " [0. 0. 1.]\n",
            " [0. 0. 1.]\n",
            " [0. 0. 1.]\n",
            " [1. 0. 0.]\n",
            " [0. 0. 1.]\n",
            " [1. 0. 0.]\n",
            " [0. 0. 1.]\n",
            " [0. 0. 1.]\n",
            " [1. 0. 0.]\n",
            " [0. 0. 1.]\n",
            " [1. 0. 0.]\n",
            " [1. 0. 0.]\n",
            " [1. 0. 0.]\n",
            " [0. 0. 1.]\n",
            " [1. 0. 0.]\n",
            " [0. 0. 1.]\n",
            " [0. 0. 1.]\n",
            " [0. 0. 1.]\n",
            " [0. 0. 1.]\n",
            " [1. 0. 0.]\n",
            " [0. 0. 0.]\n",
            " [0. 0. 1.]\n",
            " [0. 0. 1.]\n",
            " [0. 0. 0.]\n",
            " [0. 0. 1.]\n",
            " [1. 0. 0.]\n",
            " [0. 0. 1.]\n",
            " [0. 0. 1.]\n",
            " [0. 0. 0.]\n",
            " [1. 0. 0.]\n",
            " [1. 0. 0.]\n",
            " [0. 0. 0.]\n",
            " [0. 0. 1.]\n",
            " [1. 0. 0.]\n",
            " [0. 1. 0.]\n",
            " [0. 1. 0.]\n",
            " [0. 0. 1.]\n",
            " [0. 0. 1.]\n",
            " [0. 1. 0.]\n",
            " [1. 0. 0.]\n",
            " [1. 0. 0.]\n",
            " [0. 0. 1.]\n",
            " [0. 0. 0.]\n",
            " [0. 1. 0.]\n",
            " [0. 0. 1.]\n",
            " [0. 0. 1.]\n",
            " [0. 0. 1.]\n",
            " [0. 0. 0.]\n",
            " [0. 1. 0.]\n",
            " [0. 0. 1.]\n",
            " [0. 1. 0.]\n",
            " [1. 0. 0.]\n",
            " [0. 0. 0.]\n",
            " [1. 0. 0.]\n",
            " [0. 0. 0.]\n",
            " [0. 0. 0.]\n",
            " [1. 0. 0.]\n",
            " [0. 0. 1.]\n",
            " [0. 0. 1.]\n",
            " [0. 0. 1.]\n",
            " [0. 0. 1.]\n",
            " [0. 0. 1.]\n",
            " [0. 0. 1.]\n",
            " [0. 0. 1.]\n",
            " [0. 0. 1.]\n",
            " [0. 0. 1.]\n",
            " [0. 0. 1.]\n",
            " [0. 0. 0.]\n",
            " [0. 1. 0.]\n",
            " [0. 1. 0.]\n",
            " [0. 1. 0.]\n",
            " [0. 1. 0.]\n",
            " [0. 1. 0.]\n",
            " [0. 1. 0.]\n",
            " [0. 0. 0.]\n",
            " [0. 1. 0.]\n",
            " [0. 1. 0.]\n",
            " [0. 1. 0.]\n",
            " [0. 1. 0.]\n",
            " [0. 1. 0.]\n",
            " [0. 1. 0.]\n",
            " [0. 0. 0.]\n",
            " [0. 0. 0.]\n",
            " [0. 1. 0.]\n",
            " [0. 0. 0.]\n",
            " [0. 1. 0.]\n",
            " [1. 0. 0.]\n",
            " [1. 0. 0.]\n",
            " [0. 1. 0.]\n",
            " [0. 0. 1.]\n",
            " [0. 1. 0.]\n",
            " [0. 0. 0.]\n",
            " [1. 0. 0.]\n",
            " [0. 0. 0.]\n",
            " [0. 0. 1.]\n",
            " [0. 0. 1.]\n",
            " [0. 0. 1.]\n",
            " [1. 0. 0.]\n",
            " [0. 0. 1.]\n",
            " [0. 1. 0.]\n",
            " [0. 0. 1.]\n",
            " [0. 1. 0.]\n",
            " [0. 1. 0.]\n",
            " [0. 1. 0.]\n",
            " [0. 1. 0.]\n",
            " [0. 0. 0.]\n",
            " [0. 1. 0.]\n",
            " [0. 0. 0.]\n",
            " [0. 1. 0.]\n",
            " [0. 0. 0.]\n",
            " [0. 1. 0.]\n",
            " [1. 0. 0.]\n",
            " [0. 0. 1.]\n",
            " [0. 0. 1.]\n",
            " [0. 0. 0.]\n",
            " [0. 1. 0.]\n",
            " [0. 1. 0.]\n",
            " [0. 0. 0.]\n",
            " [0. 1. 0.]\n",
            " [0. 1. 0.]\n",
            " [0. 1. 0.]\n",
            " [0. 0. 0.]\n",
            " [1. 0. 0.]\n",
            " [0. 1. 0.]\n",
            " [1. 0. 0.]\n",
            " [1. 0. 0.]\n",
            " [1. 0. 0.]\n",
            " [1. 0. 0.]\n",
            " [1. 0. 0.]\n",
            " [0. 1. 0.]\n",
            " [0. 1. 0.]\n",
            " [1. 0. 0.]\n",
            " [0. 1. 0.]\n",
            " [0. 0. 1.]\n",
            " [0. 0. 0.]\n",
            " [0. 0. 1.]\n",
            " [0. 1. 0.]\n",
            " [0. 0. 0.]\n",
            " [0. 0. 0.]\n",
            " [0. 1. 0.]\n",
            " [0. 0. 0.]\n",
            " [0. 0. 1.]\n",
            " [0. 0. 0.]\n",
            " [1. 0. 0.]\n",
            " [0. 1. 0.]\n",
            " [0. 0. 0.]\n",
            " [0. 1. 0.]\n",
            " [0. 0. 1.]\n",
            " [0. 0. 1.]\n",
            " [0. 0. 1.]\n",
            " [0. 0. 1.]\n",
            " [0. 0. 1.]\n",
            " [0. 0. 1.]\n",
            " [0. 0. 1.]\n",
            " [0. 0. 1.]\n",
            " [0. 0. 1.]\n",
            " [0. 0. 1.]\n",
            " [0. 0. 1.]\n",
            " [0. 0. 0.]\n",
            " [0. 0. 1.]\n",
            " [0. 0. 1.]\n",
            " [0. 0. 1.]\n",
            " [0. 0. 1.]\n",
            " [0. 0. 1.]\n",
            " [0. 0. 1.]\n",
            " [0. 0. 1.]\n",
            " [0. 0. 1.]\n",
            " [0. 0. 1.]\n",
            " [0. 0. 1.]\n",
            " [0. 0. 1.]\n",
            " [0. 0. 1.]\n",
            " [0. 0. 1.]\n",
            " [0. 0. 1.]\n",
            " [0. 0. 1.]\n",
            " [0. 0. 1.]\n",
            " [0. 0. 1.]\n",
            " [0. 0. 1.]\n",
            " [0. 0. 1.]\n",
            " [0. 0. 1.]\n",
            " [0. 0. 1.]\n",
            " [0. 0. 0.]\n",
            " [0. 1. 0.]\n",
            " [0. 0. 1.]\n",
            " [0. 0. 1.]\n",
            " [0. 0. 1.]\n",
            " [0. 0. 1.]\n",
            " [0. 0. 0.]\n",
            " [0. 0. 1.]\n",
            " [0. 0. 1.]\n",
            " [0. 0. 1.]\n",
            " [0. 0. 1.]\n",
            " [0. 0. 1.]\n",
            " [0. 0. 1.]\n",
            " [0. 0. 1.]\n",
            " [0. 0. 1.]\n",
            " [0. 0. 1.]\n",
            " [0. 0. 1.]\n",
            " [0. 0. 1.]\n",
            " [0. 0. 1.]\n",
            " [0. 0. 1.]\n",
            " [0. 0. 1.]\n",
            " [0. 0. 1.]\n",
            " [0. 0. 1.]\n",
            " [0. 0. 1.]\n",
            " [0. 0. 1.]\n",
            " [0. 0. 1.]\n",
            " [0. 0. 1.]\n",
            " [0. 0. 1.]\n",
            " [0. 0. 1.]\n",
            " [0. 0. 1.]\n",
            " [0. 0. 1.]\n",
            " [0. 0. 0.]\n",
            " [0. 0. 0.]\n",
            " [0. 0. 0.]\n",
            " [0. 0. 1.]\n",
            " [0. 0. 1.]\n",
            " [0. 0. 1.]\n",
            " [0. 0. 1.]\n",
            " [0. 0. 1.]\n",
            " [0. 0. 1.]\n",
            " [0. 0. 0.]\n",
            " [0. 0. 1.]\n",
            " [0. 0. 1.]\n",
            " [0. 0. 1.]\n",
            " [0. 0. 1.]\n",
            " [0. 0. 1.]\n",
            " [0. 0. 1.]]\n"
          ],
          "name": "stdout"
        }
      ]
    },
    {
      "cell_type": "code",
      "metadata": {
        "id": "XVBjWIjqP7S7",
        "colab": {
          "base_uri": "https://localhost:8080/"
        },
        "outputId": "36857101-cd45-4d12-8f88-8462ecde2eeb"
      },
      "source": [
        "animals = ['Eland', 'Kudu_Bull', 'Mountain_Zebra']\n",
        "classification_metrics = metrics.classification_report(test_labels, preds, target_names=animals )\n",
        "print(classification_metrics)"
      ],
      "execution_count": null,
      "outputs": [
        {
          "output_type": "stream",
          "text": [
            "                precision    recall  f1-score   support\n",
            "\n",
            "         Eland       0.68      0.33      0.44        86\n",
            "     Kudu_Bull       0.84      0.46      0.60        80\n",
            "Mountain_Zebra       0.61      0.90      0.72        80\n",
            "\n",
            "     micro avg       0.67      0.56      0.61       246\n",
            "     macro avg       0.71      0.56      0.59       246\n",
            "  weighted avg       0.71      0.56      0.58       246\n",
            "   samples avg       0.56      0.56      0.56       246\n",
            "\n"
          ],
          "name": "stdout"
        },
        {
          "output_type": "stream",
          "text": [
            "/usr/local/lib/python3.7/dist-packages/sklearn/metrics/_classification.py:1272: UndefinedMetricWarning: Precision and F-score are ill-defined and being set to 0.0 in samples with no predicted labels. Use `zero_division` parameter to control this behavior.\n",
            "  _warn_prf(average, modifier, msg_start, len(result))\n"
          ],
          "name": "stderr"
        }
      ]
    },
    {
      "cell_type": "code",
      "metadata": {
        "id": "AVDcXCUkQ41J"
      },
      "source": [
        "# Creating our confusion matrix\n",
        "\n",
        "categorical_test_labels = pd.DataFrame(test_labels).idxmax(axis=1)\n",
        "categorical_preds = pd.DataFrame(preds).idxmax(axis=1)\n",
        "confusion_matrix = confusion_matrix(categorical_test_labels, categorical_preds)\n",
        "\n",
        "# Displaying the confusion matrix:\n",
        "\n",
        "def plot_confusion_matrix(cm, classes,\n",
        "                          normalize=False,\n",
        "                          title='Confusion matrix',\n",
        "                          cmap=plt.cm.Blues):\n",
        "# Creating the option for normalization:\n",
        "\n",
        "  if normalize:\n",
        "    cm = cm.astype('float') / cm.sum(axis=1) [:, np.newaxis]\n",
        "    print(\"Normalized confusion matrix\")\n",
        "  else: \n",
        "    print('Confusion matrix, without normalization')\n",
        "\n",
        "# Printing the confusion matrix\n",
        "\n",
        "  plt.imshow(cm, interpolation='nearest', cmap=cmap)\n",
        "  plt.title(title)\n",
        "  plt.colorbar()\n",
        "  tick_marks = np.arange(len(classes))\n",
        "  plt.xticks(tick_marks, classes, rotation=45)\n",
        "  plt.yticks(tick_marks, classes)\n",
        "\n",
        "  fmt = '.2f' if normalize else 'd'\n",
        "  thresh = cm.max() / 2.\n",
        "  for i, j in itertools.product(range(cm.shape[0]), range(cm.shape[1])):\n",
        "      plt.text(j, i, format(cm[i, j], fmt), horizontalalignment=\"center\", color=\"white\" if cm[i, j] > thresh else \"black\")\n",
        "  plt.tight_layout()\n",
        "  plt.ylabel('True label')\n",
        "  plt.xlabel('Predicted label') "
      ],
      "execution_count": null,
      "outputs": []
    },
    {
      "cell_type": "code",
      "metadata": {
        "colab": {
          "base_uri": "https://localhost:8080/",
          "height": 328
        },
        "id": "j4QSubrrXwiu",
        "outputId": "fd3f8319-61a4-4a21-ebaf-adcb7aa5f0d3"
      },
      "source": [
        "# Plotting the confusion matrix\n",
        "plot_confusion_matrix(confusion_matrix, ['Eland', 'Kudu_Bull', 'Mountain_Zebra'], normalize=True)"
      ],
      "execution_count": null,
      "outputs": [
        {
          "output_type": "stream",
          "text": [
            "Normalized confusion matrix\n"
          ],
          "name": "stdout"
        },
        {
          "output_type": "display_data",
          "data": {
            "image/png": "[encoded data removed]",
            "text/plain": [
              "<Figure size 432x288 with 2 Axes>"
            ]
          },
          "metadata": {
            "tags": [],
            "needs_background": "light"
          }
        }
      ]
    },
    {
      "cell_type": "markdown",
      "metadata": {
        "id": "jokCA0tVolyQ"
      },
      "source": [
        "Mamun, Iftekher (April 7th, 2019) A Simple CNN: Multi Image Classifier. [Towards Data Science] Retrieved from: https://towardsdatascience.com/a-simple-cnn-multi-image-classifier-31c463324fa"
      ]
    }
  ]
}