{
  "nbformat": 4,
  "nbformat_minor": 0,
  "metadata": {
    "colab": {
      "name": "Final_Experimental_Model_based_on_Mamun_2019_VGG16.ipynb",
      "provenance": [],
      "collapsed_sections": []
    },
    "kernelspec": {
      "display_name": "Python 3",
      "name": "python3"
    },
    "language_info": {
      "name": "python"
    }
  },
  "cells": [
    {
      "cell_type": "markdown",
      "metadata": {
        "id": "KupfiUtaxA1w"
      },
      "source": [
        "**Using Sequential Neural Networks and Transfer Learning to Assess Biodiversity at Karoo National Park, South Africa**"
      ]
    },
    {
      "cell_type": "markdown",
      "metadata": {
        "id": "3e6HAYSrxNEP"
      },
      "source": [
        "**Introduction**\n",
        "\n",
        "Camera traps offer an unprecedented method to gain a large amount of data on wildlife in a noninvasive manner. Camera traps are remotely triggered cameras that use motion sensors to take photos when animals walk by. Camera traps also present a great opportunity for harnessing big data in wildlife biology (Ahumada et. al. 2019). However, a limitation of this type of data is the time needed to identify the animals in the images. This is where convolutional neural networks come in as these machine learning algorithms can quickly identify large numbers of images. \n",
        "\n",
        "However, animals do not pose for pictures, and it is possible that the angle of the animal in a photo can affect the ability of the algorithm to identify the animal in question. This includes situations in which the animal is seen from the front or from the rear rather than from the side. In these situations, the same animal can look very different. In addition, sexual dimorphism can be a factor in identifying an animal in a camera trap image. This algorithm will attempt to discover if sexual dimorphism and the position of the animal can affect the ability of a convolutional neural network to identify a species. In addition, it is possible that different keras applications can have greater success than others in correctly classifying the different categories of animal involved with camera trap images.\n",
        "\n",
        "The goal of this assignment is to determine if the position of the animal and the type of Keras architecture affects the ability of a CNN to identify an animal. Data will be obtained from three datasets, Snapshot Karoo: Season 1, Snapshot Camdeboo: Season 1 and Snapshot Kgalagadi: Season 1. These datasets are part of the Snapshot Safari program and are available through the Labeled Information Library of Alexandria (LILA BC). This lab will look at three categories of South African herbivore, the bull greater kudu (*Tragelaphus strepsiceros*), the cow eland (*Taurotragus oryx*) and mountain zebra (*Equus zebra*). Datasets will include a control dataset, in which all data for each category of antelope will be included in a single file, and an experimental dataset in which the data for each category is separated by front, rear and side views of the animal. The performance of both the control group and the experimental group will be assessed to determine the effectiveness of the algorithm.\n",
        "\n",
        "In addition, the performance of the CNN on the control and experimental groups will be tested using a sequential neural network with several different Keras applications. These will include the ResNet101 architecture, the MobileNet architecture and the VGG16 architecture. The accuracy of the algorithm in identifying individual categories, a confusion matrix will also be produced to see which categories the algorithm has difficulty identifying. \n",
        "\n",
        "This lab will utilize code created by Iftekher Mamum (2019). This code was chosen for its ability to quickly iterate through epochs, its higher accuracy and the ease at which it can create and display a confusion matrix. \n",
        "\n"
      ]
    },
    {
      "cell_type": "code",
      "metadata": {
        "colab": {
          "base_uri": "https://localhost:8080/",
          "height": 16
        },
        "id": "lDUuG7oRW75u",
        "outputId": "6f609d8f-347e-4b38-d27b-ea7f8a1b399f"
      },
      "source": [
        "from IPython.core.display import display, HTML\n",
        "display(HTML(\"<style>.container { width:95% !important; }</style>\"))"
      ],
      "execution_count": null,
      "outputs": [
        {
          "output_type": "display_data",
          "data": {
            "text/html": [
              "<style>.container { width:95% !important; }</style>"
            ],
            "text/plain": [
              "<IPython.core.display.HTML object>"
            ]
          },
          "metadata": {
            "tags": []
          }
        }
      ]
    },
    {
      "cell_type": "code",
      "metadata": {
        "id": "M9vmgl97Pv_u"
      },
      "source": [
        "#Import libraries\n",
        "import numpy as np\n",
        "import pandas as pd\n",
        "import matplotlib.pyplot as plt\n",
        "import tensorflow as tf\n",
        "from tensorflow.keras import backend, models, layers, optimizers, regularizers\n",
        "from tensorflow.keras.utils import to_categorical\n",
        "from tensorflow.keras.layers import BatchNormalization\n",
        "from tensorflow.keras.callbacks import EarlyStopping\n",
        "from sklearn.model_selection import train_test_split # This method ended up not being used\n",
        "from sklearn import metrics\n",
        "from sklearn.metrics import confusion_matrix\n",
        "from IPython.display import display # This library ended up not being used.\n",
        "from PIL import Image # This library was used to help view images\n",
        "from tensorflow.keras.preprocessing.image import ImageDataGenerator, img_to_array, load_img # This library was used for data augmentation\n",
        "import os, shutil # This libraries were used to create file connections\n",
        "import cv2\n",
        "np.random.seed(42)\n",
        "\n",
        "import pandas as pd\n",
        "import numpy as np\n",
        "import itertools\n",
        "import keras \n",
        "from sklearn import metrics\n",
        "from sklearn.metrics import confusion_matrix\n",
        "from keras.preprocessing.image import ImageDataGenerator, img_to_array, load_img\n",
        "from keras.models import Sequential\n",
        "from keras import optimizers \n",
        "from keras.preprocessing import image\n",
        "from keras.layers import Dropout, Flatten, Dense\n",
        "from keras import applications\n",
        "from keras.utils.np_utils import to_categorical\n",
        "import matplotlib.pyplot as plt\n",
        "import matplotlib.image as mpimg\n",
        "%matplotlib inline\n",
        "import math\n",
        "import datetime\n",
        "import time\n",
        "import tensorflow as tf"
      ],
      "execution_count": null,
      "outputs": []
    },
    {
      "cell_type": "code",
      "metadata": {
        "id": "dEaSe2OmXCCu"
      },
      "source": [
        "backend.clear_session()"
      ],
      "execution_count": null,
      "outputs": []
    },
    {
      "cell_type": "code",
      "metadata": {
        "colab": {
          "base_uri": "https://localhost:8080/"
        },
        "id": "Hv-GnVGOXGky",
        "outputId": "9d6cd658-f684-4944-b69a-98fd1f844262"
      },
      "source": [
        "from google.colab import drive\n",
        "drive.mount('/gdrive')"
      ],
      "execution_count": null,
      "outputs": [
        {
          "output_type": "stream",
          "text": [
            "Mounted at /gdrive\n"
          ],
          "name": "stdout"
        }
      ]
    },
    {
      "cell_type": "markdown",
      "metadata": {
        "id": "GxGf46E3L3z3"
      },
      "source": [
        "**Methods:**\n",
        "\n",
        "The final dataset was not a balanced dataset because most pictures of the animals were of the side view rather than views from the front or the rear. Diagonal animals are hard to classify so an effort was made to use pictures with a clear enough difference in the position of the animal. The dataset ended up having 788 total images. The experimental dataset ended up with fewer images, with 773, and it not clear why this is. Unfortunately, this error was discovered very late in the project’s process and there was not enough time to fix it. In the control dataset, the cow eland had 277 training images, 69 validation images and 86 test images for 432 images total. The bull greater kudu had 257 training images, 64 validation images and 80 test images for 401 images total. The data for the mountain zebra 254 training images, 64 validation images and 80 testing images. The experimental dataset included separate categories for the side, front and rear views of the animal. The side view of the cow eland included 182 training images, 46 validation images and 57 test images for a total of 285 images. The front view of the cow eland had 57 training images, 14 validation images and 18 testing images for a total of 89 images. The rear view of the cow eland had 37 training images, 9 validation images and 12 testing images for a total of 58 images. The side view of the bull greater kudu had 182 training images, 46 validation images and 57 test images for 285 total images. The front view had 46 training images, 11 validation images and 14 testing images for 71 total images. The rear view had 26 training images, 8 validation images and 10 testing images for a total of 44 total images. The mountain zebra’s side view had 165 training images, 41 validation images and 51 testing images for 257 total images. The front view of the mountain zebra had 48 training images 13 validation images and 15 testing images with a total of 75 images. The mountain zebra’s rear view had 28 training images, 7 validation images and 9 testing images. The data was divided by a 64%/16%/20% train/validation/test split.\n",
        "\n",
        "The model created by Iftekher Mamun (2019) resizes the images to a size of 224 by 224 pixels, an image size chose was also to make the model compatible with the VGG16 architecture that would be used by its convolutional neural network. and converts images into a numpy array which is loaded into a bottleneck file for the training, validation and testing data to use. This numpy array is built from the number associated with each pixel in the photo. The data generators then prepare the data for the convolutional network and most importantly create the labels needed for the confusion matrix to work. This is the key difference between Mamun’s code and the code I originally created, as this was the code that finally allowed me to create the labels needed to build the confusion matrix. The matrix needs a set of easily accessible labels to compare the to the model’s predictions. The model does this by converting the numpy array used in the bottleneck file into a categorical variable that can be used for the labels. Basically, it is a set of dummy variables used to create labels for the machine learner.\n",
        "\n",
        "The model was originally designed to run with 7 epochs and a batch size of 50 (Mamun 2019). However, the number of epochs was increased to 30 in this experiment, and the batch size reduced to 10 as the datasets used were smaller than the animal-10 dataset from Kaggle. The architecture used for the project was the VGG16 algorithm.\n",
        "\n",
        "\n"
      ]
    },
    {
      "cell_type": "code",
      "metadata": {
        "id": "8o6w0AcKXJRn"
      },
      "source": [
        "base_dir = '/gdrive/My Drive/Regis/Karoo/Exp_Data_Slim/'"
      ],
      "execution_count": null,
      "outputs": []
    },
    {
      "cell_type": "code",
      "metadata": {
        "id": "NINbBUgGZ10o"
      },
      "source": [
        "# In the original code by Mamun et. al. (2019) this was the default height and width for images\n",
        "img_width, img_height = 224, 224\n",
        "\n",
        "# This code creates the bottleneck file to process the images to a size usable by the VGG116 algorithm\n",
        "top_model_weights_path = '/gdrive/My Drive/Regis/Karoo/bottleneck_fc_model_exp.h5/'\n",
        "\n",
        "# These are the links to the training, validation and testing datasets\n",
        "train_data_dir = '/gdrive/My Drive/Regis/Karoo/Exp_Data_Slim/Train'\n",
        "validation_data_dir = '/gdrive/My Drive/Regis/Karoo/Exp_Data_Slim/Val'\n",
        "test_data_dir = '/gdrive/My Drive/Regis/Karoo/Exp_Data_Slim/Test'\n",
        "\n",
        "# Epochs and Batch Size\n",
        "epochs = 30 \n",
        "batch_size = 10 "
      ],
      "execution_count": null,
      "outputs": []
    },
    {
      "cell_type": "code",
      "metadata": {
        "id": "EAWbU4_NcoCx",
        "colab": {
          "base_uri": "https://localhost:8080/"
        },
        "outputId": "a246d604-9c99-43cb-ab74-f7dc286ec5dc"
      },
      "source": [
        "vgg16 = applications.VGG16(include_top=False, weights='imagenet')\n",
        "\n",
        "datagen = ImageDataGenerator(rescale=1. / 255)"
      ],
      "execution_count": null,
      "outputs": [
        {
          "output_type": "stream",
          "text": [
            "Downloading data from https://storage.googleapis.com/tensorflow/keras-applications/vgg16/vgg16_weights_tf_dim_ordering_tf_kernels_notop.h5\n",
            "58892288/58889256 [==============================] - 0s 0us/step\n"
          ],
          "name": "stdout"
        }
      ]
    },
    {
      "cell_type": "code",
      "metadata": {
        "colab": {
          "base_uri": "https://localhost:8080/"
        },
        "id": "tq6Ao2AWa-F_",
        "outputId": "3c95bd12-3631-4931-ae0c-c2b0dbcce63e"
      },
      "source": [
        "# This code generates the training data\n",
        "start = datetime.datetime.now()\n",
        "\n",
        "generator = datagen.flow_from_directory(\n",
        "    train_data_dir,\n",
        "    target_size=(img_width, img_height),\n",
        "    batch_size=batch_size,\n",
        "    class_mode=None,\n",
        "    shuffle=False)\n",
        "\n",
        "nb_train_samples = len(generator.filenames)\n",
        "num_classes = len(generator.class_indices)\n",
        "\n",
        "predict_size_train = int(math.ceil(nb_train_samples / batch_size))\n",
        "\n",
        "bottleneck_features_train = vgg16.predict_generator(generator,\n",
        "                                                    predict_size_train)\n",
        "\n",
        "np.save('bottleneck_features_train.npy', bottleneck_features_train)\n",
        "end = datetime.datetime.now()\n",
        "elapsed = end-start\n",
        "print ('Time: ', elapsed)"
      ],
      "execution_count": null,
      "outputs": [
        {
          "output_type": "stream",
          "text": [
            "Found 773 images belonging to 9 classes.\n"
          ],
          "name": "stdout"
        },
        {
          "output_type": "stream",
          "text": [
            "/usr/local/lib/python3.7/dist-packages/tensorflow/python/keras/engine/training.py:1905: UserWarning: `Model.predict_generator` is deprecated and will be removed in a future version. Please use `Model.predict`, which supports generators.\n",
            "  warnings.warn('`Model.predict_generator` is deprecated and '\n"
          ],
          "name": "stderr"
        },
        {
          "output_type": "stream",
          "text": [
            "Time:  0:07:38.266877\n"
          ],
          "name": "stdout"
        }
      ]
    },
    {
      "cell_type": "code",
      "metadata": {
        "colab": {
          "base_uri": "https://localhost:8080/"
        },
        "id": "aykk4fFCQvXs",
        "outputId": "bb45eb79-b513-4e4b-8bbe-a8bde7bf53f9"
      },
      "source": [
        "#This code generates the validation Data\n",
        "start = datetime.datetime.now()\n",
        "\n",
        "generator = datagen.flow_from_directory(\n",
        "    validation_data_dir,\n",
        "    target_size=(img_width, img_height),\n",
        "    batch_size=batch_size,\n",
        "    class_mode=None,\n",
        "    shuffle=False)\n",
        "\n",
        "nb_val_samples = len(generator.filenames)\n",
        "num_classes = len(generator.class_indices)\n",
        "\n",
        "predict_size_val = int(math.ceil(nb_val_samples / batch_size))\n",
        "\n",
        "bottleneck_features_val = vgg16.predict_generator(generator,\n",
        "                                                    predict_size_val)\n",
        "\n",
        "np.save('bottleneck_features_val.npy', bottleneck_features_val)\n",
        "end = datetime.datetime.now()\n",
        "elapsed = end-start\n",
        "print ('Time: ', elapsed)"
      ],
      "execution_count": null,
      "outputs": [
        {
          "output_type": "stream",
          "text": [
            "Found 194 images belonging to 9 classes.\n"
          ],
          "name": "stdout"
        },
        {
          "output_type": "stream",
          "text": [
            "/usr/local/lib/python3.7/dist-packages/tensorflow/python/keras/engine/training.py:1905: UserWarning: `Model.predict_generator` is deprecated and will be removed in a future version. Please use `Model.predict`, which supports generators.\n",
            "  warnings.warn('`Model.predict_generator` is deprecated and '\n"
          ],
          "name": "stderr"
        },
        {
          "output_type": "stream",
          "text": [
            "Time:  0:02:00.555726\n"
          ],
          "name": "stdout"
        }
      ]
    },
    {
      "cell_type": "code",
      "metadata": {
        "colab": {
          "base_uri": "https://localhost:8080/"
        },
        "id": "0Bb3Xnx-Rtuz",
        "outputId": "37090e65-2b26-4544-cf3c-676fa63db4f0"
      },
      "source": [
        "# This code generates the test data\n",
        "start = datetime.datetime.now()\n",
        "\n",
        "generator = datagen.flow_from_directory(\n",
        "    test_data_dir,\n",
        "    target_size=(img_width, img_height),\n",
        "    batch_size=batch_size,\n",
        "    class_mode=None,\n",
        "    shuffle=False)\n",
        "\n",
        "nb_test_samples = len(generator.filenames)\n",
        "num_classes = len(generator.class_indices)\n",
        "\n",
        "predict_size_test = int(math.ceil(nb_test_samples / batch_size))\n",
        "\n",
        "bottleneck_features_test = vgg16.predict_generator(generator,\n",
        "                                                    predict_size_test)\n",
        "\n",
        "np.save('bottleneck_features_test.npy', bottleneck_features_test)\n",
        "end = datetime.datetime.now()\n",
        "elapsed = end-start\n",
        "print ('Time: ', elapsed)"
      ],
      "execution_count": null,
      "outputs": [
        {
          "output_type": "stream",
          "text": [
            "Found 243 images belonging to 9 classes.\n"
          ],
          "name": "stdout"
        },
        {
          "output_type": "stream",
          "text": [
            "/usr/local/lib/python3.7/dist-packages/tensorflow/python/keras/engine/training.py:1905: UserWarning: `Model.predict_generator` is deprecated and will be removed in a future version. Please use `Model.predict`, which supports generators.\n",
            "  warnings.warn('`Model.predict_generator` is deprecated and '\n"
          ],
          "name": "stderr"
        },
        {
          "output_type": "stream",
          "text": [
            "Time:  0:02:25.704806\n"
          ],
          "name": "stdout"
        }
      ]
    },
    {
      "cell_type": "code",
      "metadata": {
        "colab": {
          "base_uri": "https://localhost:8080/"
        },
        "id": "f6g9PEc6fhhP",
        "outputId": "dd7c6010-81f9-44e4-fadb-a0f59ade0cf2"
      },
      "source": [
        "# This code generates the training data \n",
        "train_generator = datagen.flow_from_directory(\n",
        "    train_data_dir,\n",
        "    target_size = (img_width, img_height),\n",
        "    batch_size = batch_size,\n",
        "    class_mode = 'categorical',\n",
        "    shuffle=False)\n",
        "\n",
        "nb_train_samples = len(train_generator.filenames)\n",
        "num_classes = len(train_generator.class_indices)\n",
        "\n",
        "# This code will load the converted images for the training data from the bottleneck file\n",
        "train_data = np.load('bottleneck_features_train.npy')\n",
        "\n",
        "# This code generates the labels for the training data\n",
        "train_labels = train_generator.classes\n",
        "\n",
        "# This code converts the training labels into a categorical class\n",
        "train_labels = to_categorical(train_labels, num_classes=num_classes)"
      ],
      "execution_count": null,
      "outputs": [
        {
          "output_type": "stream",
          "text": [
            "Found 773 images belonging to 9 classes.\n"
          ],
          "name": "stdout"
        }
      ]
    },
    {
      "cell_type": "code",
      "metadata": {
        "colab": {
          "base_uri": "https://localhost:8080/"
        },
        "id": "RwjaILgCFGfA",
        "outputId": "adb49a76-348f-4637-a1e2-c12d0c520972"
      },
      "source": [
        "# This code generates the validation data\n",
        "validation_generator_top = datagen.flow_from_directory(\n",
        "    validation_data_dir,\n",
        "    target_size = (img_width, img_height),\n",
        "    batch_size = batch_size,\n",
        "    class_mode = 'categorical',\n",
        "    shuffle=False)\n",
        "\n",
        "nb_val_samples = len(validation_generator_top.filenames)\n",
        "num_classes = len(validation_generator_top.class_indices)\n",
        "\n",
        "# This code will load the converted images for the validation from the bottleneck file, create labels and convert them into a categorical class the confusion matrix can use\n",
        "val_data = np.load('bottleneck_features_val.npy')\n",
        "val_labels = validation_generator_top.classes\n",
        "val_labels = to_categorical(val_labels, num_classes=num_classes)"
      ],
      "execution_count": null,
      "outputs": [
        {
          "output_type": "stream",
          "text": [
            "Found 194 images belonging to 9 classes.\n"
          ],
          "name": "stdout"
        }
      ]
    },
    {
      "cell_type": "code",
      "metadata": {
        "colab": {
          "base_uri": "https://localhost:8080/"
        },
        "id": "jjQixOGPIlUK",
        "outputId": "d2c19d29-60a6-4343-933b-ab5f06a33b73"
      },
      "source": [
        "# This code generates the testing data \n",
        "test_generator = datagen.flow_from_directory(\n",
        "    test_data_dir,\n",
        "    target_size = (img_width, img_height),\n",
        "    batch_size = batch_size,\n",
        "    class_mode = 'categorical',\n",
        "    shuffle=False)\n",
        "\n",
        "nb_test_samples = len(test_generator.filenames)\n",
        "num_classes = len(test_generator.class_indices)\n",
        "\n",
        "test_data = np.load('bottleneck_features_test.npy')\n",
        "test_labels = test_generator.classes\n",
        "test_labels = to_categorical(test_labels, num_classes=num_classes)"
      ],
      "execution_count": null,
      "outputs": [
        {
          "output_type": "stream",
          "text": [
            "Found 243 images belonging to 9 classes.\n"
          ],
          "name": "stdout"
        }
      ]
    },
    {
      "cell_type": "code",
      "metadata": {
        "colab": {
          "base_uri": "https://localhost:8080/"
        },
        "id": "PpWGGsKs7Mya",
        "outputId": "97f05669-48d0-45f0-eaa4-af45e923d47b"
      },
      "source": [
        "categories = test_generator.class_indices\n",
        "print(categories)"
      ],
      "execution_count": null,
      "outputs": [
        {
          "output_type": "stream",
          "text": [
            "{'Eland': 0, 'Eland_Front': 1, 'Eland_Rear': 2, 'Kudu_Bull': 3, 'Kudu_Bull_Front': 4, 'Kudu_Bull_Rear': 5, 'Mountain_Zebra': 6, 'Mountain_Zebra_Front': 7, 'Mountain_Zebra_Rear': 8}\n"
          ],
          "name": "stdout"
        }
      ]
    },
    {
      "cell_type": "markdown",
      "metadata": {
        "id": "RCfBSEQbxzQH"
      },
      "source": [
        "**Creating the Confusion Matrix**\n",
        "\n",
        "Like the model originally created for this project, Mamun (2019) used a CNN called a sequential neural network. This used transfer learning to incorporate the VGG16 architecture. The initial layers forming the top of the model was set to false to avoid incorporating it into the model, and the weights were set to ‘imagenet’ as per Mamun (2019). The model flattened the data and included three hidden layers. The first two use a with 100 nodes and the second with 50 nodes, and both use a LeakyRelu activation function. The model incorporates two dropout layers, one with a dropout of 0.5 and one with a dropout of 0.3. A softmax activation function was used on the final hidden layer as it is a classification-based model (Chollet 2018)."
      ]
    },
    {
      "cell_type": "code",
      "metadata": {
        "colab": {
          "base_uri": "https://localhost:8080/"
        },
        "id": "NzwT2n0AMBu7",
        "outputId": "8df20da0-e1f4-470d-ab88-39df55b51a88"
      },
      "source": [
        "# Convolutional Neural Network \n",
        "start = datetime.datetime.now()\n",
        "model = Sequential()\n",
        "model.add (Flatten (input_shape=train_data.shape[1:]))\n",
        "model.add(Dense (100, activation=keras.layers.LeakyReLU(alpha=0.3)))\n",
        "model.add(Dropout(0.5))\n",
        "model.add(Dense(50, activation=keras.layers.LeakyReLU(alpha=0.3)))\n",
        "model.add(Dropout (0.3))\n",
        "model.add(Dense(num_classes, activation='softmax'))\n",
        "\n",
        "model.compile(loss='categorical_crossentropy',\n",
        "              optimizer=optimizers.RMSprop(lr=1e-4),\n",
        "              metrics=['acc'])\n",
        "\n",
        "history = model.fit(train_data, train_labels,\n",
        "                    epochs=epochs,\n",
        "                    batch_size=batch_size,\n",
        "                    validation_data=(val_data, val_labels))\n",
        "\n",
        "model.save_weights(top_model_weights_path)\n",
        "\n",
        "(eval_loss, eval_accuracy) = model.evaluate(\n",
        "    val_data, val_labels, batch_size=batch_size, verbose=1)\n",
        "\n",
        "print(\"[INFO] accuracy: {:.2f}%\".format(eval_accuracy * 100))\n",
        "print(\"[INFO] Loss: {}\".format(eval_loss))\n",
        "end= datetime.datetime.now()\n",
        "elapsed= end-start\n",
        "print ('Time: ', elapsed)"
      ],
      "execution_count": null,
      "outputs": [
        {
          "output_type": "stream",
          "text": [
            "Epoch 1/30\n",
            "78/78 [==============================] - 4s 35ms/step - loss: 2.1767 - acc: 0.2640 - val_loss: 1.5971 - val_acc: 0.4691\n",
            "Epoch 2/30\n",
            "78/78 [==============================] - 2s 29ms/step - loss: 1.6439 - acc: 0.4609 - val_loss: 1.4951 - val_acc: 0.4897\n",
            "Epoch 3/30\n",
            "78/78 [==============================] - 2s 29ms/step - loss: 1.5584 - acc: 0.4591 - val_loss: 1.3461 - val_acc: 0.5619\n",
            "Epoch 4/30\n",
            "78/78 [==============================] - 2s 29ms/step - loss: 1.4123 - acc: 0.5429 - val_loss: 1.3591 - val_acc: 0.5309\n",
            "Epoch 5/30\n",
            "78/78 [==============================] - 2s 28ms/step - loss: 1.2255 - acc: 0.5755 - val_loss: 1.3440 - val_acc: 0.5979\n",
            "Epoch 6/30\n",
            "78/78 [==============================] - 2s 29ms/step - loss: 1.2044 - acc: 0.6097 - val_loss: 1.3338 - val_acc: 0.5464\n",
            "Epoch 7/30\n",
            "78/78 [==============================] - 2s 29ms/step - loss: 0.9590 - acc: 0.6772 - val_loss: 1.3140 - val_acc: 0.5722\n",
            "Epoch 8/30\n",
            "78/78 [==============================] - 2s 30ms/step - loss: 0.8433 - acc: 0.7347 - val_loss: 1.2113 - val_acc: 0.6031\n",
            "Epoch 9/30\n",
            "78/78 [==============================] - 2s 29ms/step - loss: 0.9013 - acc: 0.7256 - val_loss: 1.2585 - val_acc: 0.6237\n",
            "Epoch 10/30\n",
            "78/78 [==============================] - 2s 29ms/step - loss: 0.7988 - acc: 0.7476 - val_loss: 1.0762 - val_acc: 0.6753\n",
            "Epoch 11/30\n",
            "78/78 [==============================] - 2s 28ms/step - loss: 0.7556 - acc: 0.7322 - val_loss: 1.1212 - val_acc: 0.6649\n",
            "Epoch 12/30\n",
            "78/78 [==============================] - 2s 29ms/step - loss: 0.7135 - acc: 0.7715 - val_loss: 1.0779 - val_acc: 0.6804\n",
            "Epoch 13/30\n",
            "78/78 [==============================] - 2s 30ms/step - loss: 0.6391 - acc: 0.7958 - val_loss: 1.1305 - val_acc: 0.6546\n",
            "Epoch 14/30\n",
            "78/78 [==============================] - 2s 29ms/step - loss: 0.5928 - acc: 0.8107 - val_loss: 1.0571 - val_acc: 0.6701\n",
            "Epoch 15/30\n",
            "78/78 [==============================] - 2s 29ms/step - loss: 0.6117 - acc: 0.7963 - val_loss: 1.0893 - val_acc: 0.6598\n",
            "Epoch 16/30\n",
            "78/78 [==============================] - 2s 29ms/step - loss: 0.5292 - acc: 0.8426 - val_loss: 1.0652 - val_acc: 0.6753\n",
            "Epoch 17/30\n",
            "78/78 [==============================] - 2s 29ms/step - loss: 0.5349 - acc: 0.8340 - val_loss: 1.0221 - val_acc: 0.7165\n",
            "Epoch 18/30\n",
            "78/78 [==============================] - 2s 29ms/step - loss: 0.5208 - acc: 0.8403 - val_loss: 1.1162 - val_acc: 0.6856\n",
            "Epoch 19/30\n",
            "78/78 [==============================] - 2s 29ms/step - loss: 0.4388 - acc: 0.8608 - val_loss: 1.0217 - val_acc: 0.6856\n",
            "Epoch 20/30\n",
            "78/78 [==============================] - 2s 30ms/step - loss: 0.4635 - acc: 0.8587 - val_loss: 1.0419 - val_acc: 0.7113\n",
            "Epoch 21/30\n",
            "78/78 [==============================] - 2s 29ms/step - loss: 0.4413 - acc: 0.8823 - val_loss: 1.1191 - val_acc: 0.7113\n",
            "Epoch 22/30\n",
            "78/78 [==============================] - 2s 29ms/step - loss: 0.3780 - acc: 0.8800 - val_loss: 1.0170 - val_acc: 0.7010\n",
            "Epoch 23/30\n",
            "78/78 [==============================] - 2s 29ms/step - loss: 0.3797 - acc: 0.8791 - val_loss: 1.0995 - val_acc: 0.7062\n",
            "Epoch 24/30\n",
            "78/78 [==============================] - 2s 29ms/step - loss: 0.2890 - acc: 0.9235 - val_loss: 1.1272 - val_acc: 0.6804\n",
            "Epoch 25/30\n",
            "78/78 [==============================] - 2s 29ms/step - loss: 0.3000 - acc: 0.9051 - val_loss: 1.0702 - val_acc: 0.7320\n",
            "Epoch 26/30\n",
            "78/78 [==============================] - 2s 29ms/step - loss: 0.2822 - acc: 0.9031 - val_loss: 1.0637 - val_acc: 0.7320\n",
            "Epoch 27/30\n",
            "78/78 [==============================] - 2s 29ms/step - loss: 0.2890 - acc: 0.9104 - val_loss: 1.2240 - val_acc: 0.7010\n",
            "Epoch 28/30\n",
            "78/78 [==============================] - 2s 29ms/step - loss: 0.2710 - acc: 0.9033 - val_loss: 1.0564 - val_acc: 0.7320\n",
            "Epoch 29/30\n",
            "78/78 [==============================] - 2s 29ms/step - loss: 0.2330 - acc: 0.9395 - val_loss: 1.0857 - val_acc: 0.7474\n",
            "Epoch 30/30\n",
            "78/78 [==============================] - 2s 29ms/step - loss: 0.2806 - acc: 0.9054 - val_loss: 1.0803 - val_acc: 0.7113\n",
            "20/20 [==============================] - 0s 5ms/step - loss: 1.0803 - acc: 0.7113\n",
            "[INFO] accuracy: 71.13%\n",
            "[INFO] Loss: 1.0803152322769165\n",
            "Time:  0:01:10.055283\n"
          ],
          "name": "stdout"
        }
      ]
    },
    {
      "cell_type": "code",
      "metadata": {
        "id": "iIcnr1ojWW-s"
      },
      "source": [
        ""
      ],
      "execution_count": null,
      "outputs": []
    },
    {
      "cell_type": "code",
      "metadata": {
        "colab": {
          "base_uri": "https://localhost:8080/",
          "height": 573
        },
        "id": "BYcrD3APLDAS",
        "outputId": "12242605-ce12-4472-afbb-bfad6613e3f8"
      },
      "source": [
        "# Creating graphs for the training and validation loss and accuracy\n",
        "acc = history.history['acc']\n",
        "val_acc = history.history['val_acc']\n",
        "loss = history.history['loss']\n",
        "val_loss = history.history['val_loss']\n",
        "epochs = range(len(acc))\n",
        "plt.plot(epochs, acc, 'r', label='Training acc')\n",
        "plt.plot(epochs, val_acc, 'b', label='Validation acc')\n",
        "plt.title('Training and validation accuracy')\n",
        "plt.ylabel('accuracy')\n",
        "plt.xlabel('epoch')\n",
        "plt.legend()\n",
        "plt.xlabel('epoch')\n",
        "plt.legend()\n",
        "plt.figure()\n",
        "plt.plot(epochs, loss, 'r', label='Training loss')\n",
        "plt.plot(epochs, val_loss, 'b', label = 'Validation loss')\n",
        "plt.title('Training and validation loss')\n",
        "plt.ylabel('loss')\n",
        "plt.xlabel('epoch')\n",
        "plt.legend()\n",
        "plt.show()"
      ],
      "execution_count": null,
      "outputs": [
        {
          "output_type": "display_data",
          "data": {
            "image/png": "[encoded data removed]",
            "text/plain": [
              "<Figure size 432x288 with 1 Axes>"
            ]
          },
          "metadata": {
            "tags": [],
            "needs_background": "light"
          }
        },
        {
          "output_type": "display_data",
          "data": {
            "image/png": "[encoded data removed]",
            "text/plain": [
              "<Figure size 432x288 with 1 Axes>"
            ]
          },
          "metadata": {
            "tags": [],
            "needs_background": "light"
          }
        }
      ]
    },
    {
      "cell_type": "code",
      "metadata": {
        "colab": {
          "base_uri": "https://localhost:8080/"
        },
        "id": "v8pHXMS8PFHl",
        "outputId": "4b2064ac-1e9b-4bf2-e60a-4879270a1060"
      },
      "source": [
        "# Generating the test data\n",
        "model.evaluate(test_data, test_labels)"
      ],
      "execution_count": null,
      "outputs": [
        {
          "output_type": "stream",
          "text": [
            "8/8 [==============================] - 0s 7ms/step - loss: 0.8383 - acc: 0.7984\n"
          ],
          "name": "stdout"
        },
        {
          "output_type": "execute_result",
          "data": {
            "text/plain": [
              "[0.838300883769989, 0.798353910446167]"
            ]
          },
          "metadata": {
            "tags": []
          },
          "execution_count": 17
        }
      ]
    },
    {
      "cell_type": "code",
      "metadata": {
        "colab": {
          "base_uri": "https://localhost:8080/"
        },
        "id": "_MCmGI2rPSO5",
        "outputId": "630dbcdb-44ea-427a-a5f4-3efc47662305"
      },
      "source": [
        "# Creating Predictions\n",
        "preds = np.round(model.predict(test_data),0)\n",
        "print('rounded test_labels', preds)"
      ],
      "execution_count": null,
      "outputs": [
        {
          "output_type": "stream",
          "text": [
            "rounded test_labels [[1. 0. 0. ... 0. 0. 0.]\n",
            " [1. 0. 0. ... 0. 0. 0.]\n",
            " [0. 0. 0. ... 0. 0. 0.]\n",
            " ...\n",
            " [0. 0. 0. ... 1. 0. 0.]\n",
            " [0. 0. 0. ... 0. 0. 1.]\n",
            " [0. 0. 0. ... 0. 0. 1.]]\n"
          ],
          "name": "stdout"
        }
      ]
    },
    {
      "cell_type": "code",
      "metadata": {
        "colab": {
          "base_uri": "https://localhost:8080/"
        },
        "id": "XVBjWIjqP7S7",
        "outputId": "21cd86ae-91e2-4b8a-e770-c52976e29a82"
      },
      "source": [
        "animals = ['Eland', 'Eland_Front', 'Eland_Rear', 'Kudu_Bull', 'Kudu_Bull_Front', 'Kudu_Bull_Rear', 'Mountain_Zebra', 'Mountain_Zebra_Front', 'Mountain_Zebra_Rear']\n",
        "classification_metrics = metrics.classification_report(test_labels, preds, target_names=animals )\n",
        "print(classification_metrics)"
      ],
      "execution_count": null,
      "outputs": [
        {
          "output_type": "stream",
          "text": [
            "                      precision    recall  f1-score   support\n",
            "\n",
            "               Eland       0.74      0.93      0.82        57\n",
            "         Eland_Front       0.73      0.61      0.67        18\n",
            "          Eland_Rear       0.86      0.50      0.63        12\n",
            "           Kudu_Bull       0.92      0.81      0.86        57\n",
            "     Kudu_Bull_Front       0.83      0.71      0.77        14\n",
            "      Kudu_Bull_Rear       0.78      0.70      0.74        10\n",
            "      Mountain_Zebra       0.85      0.88      0.87        51\n",
            "Mountain_Zebra_Front       0.88      0.47      0.61        15\n",
            " Mountain_Zebra_Rear       1.00      0.56      0.71         9\n",
            "\n",
            "           micro avg       0.82      0.78      0.80       243\n",
            "           macro avg       0.84      0.69      0.74       243\n",
            "        weighted avg       0.83      0.78      0.80       243\n",
            "         samples avg       0.78      0.78      0.78       243\n",
            "\n"
          ],
          "name": "stdout"
        },
        {
          "output_type": "stream",
          "text": [
            "/usr/local/lib/python3.7/dist-packages/sklearn/metrics/_classification.py:1272: UndefinedMetricWarning: Precision and F-score are ill-defined and being set to 0.0 in samples with no predicted labels. Use `zero_division` parameter to control this behavior.\n",
            "  _warn_prf(average, modifier, msg_start, len(result))\n"
          ],
          "name": "stderr"
        }
      ]
    },
    {
      "cell_type": "markdown",
      "metadata": {
        "id": "UR9dsZL3KgxU"
      },
      "source": [
        "**Creating the Confusion Matrix**\n",
        "\n",
        "In Iftekher Mamun’s code for creating the confusion matrix was the main reason why it was chosen. The code by Mamun (2019) begins the process of creating the confusion matrix. This means that the code must be converted from a numpy array into a set of categorical variables that can be used in a data frame. This creates a column of variables which show the correct identity of the category. In addition, the predictions must also be converted into a confusion matrix. Like the labels they are in dummy format, so they are also converted from an array to a data frame. By comparing the data frames for the labels and results, Matplotlib can construct the confusion matrix. \n",
        "\n"
      ]
    },
    {
      "cell_type": "code",
      "metadata": {
        "id": "AVDcXCUkQ41J"
      },
      "source": [
        "# Converting the labels from a numpy array into a dataframe\n",
        "categorical_test_labels = pd.DataFrame(test_labels).idxmax(axis=1)\n",
        "# Converting the predictions created by the model into a dataframe\n",
        "categorical_preds = pd.DataFrame(preds).idxmax(axis=1)\n",
        "# Building a confusion matrix that will compare the dataframes of the labels to the dataframe of the predictions\n",
        "confusion_matrix = confusion_matrix(categorical_test_labels, categorical_preds)\n",
        "\n",
        "#To get better visual of the confusion matrix:\n",
        "\n",
        "def plot_confusion_matrix(cm, classes,\n",
        "                          normalize=False,\n",
        "                          title='Confusion matrix',\n",
        "                          cmap=plt.cm.Blues):\n",
        "# Allows the results of the confusion matrix to be normalized\n",
        "#'\"prints pretty confusion metric with normalization option \"'\n",
        "  if normalize:\n",
        "    cm = cm.astype('float') / cm.sum(axis=1) [:, np.newaxis]\n",
        "    print(\"Normalized confusion matrix\")\n",
        "  else: \n",
        "    print('Confusion matrix, without normalization')\n",
        "\n",
        "# printing the confusion matrix\n",
        "\n",
        "  plt.imshow(cm, interpolation='nearest', cmap=cmap)\n",
        "  plt.title(title)\n",
        "  plt.colorbar()\n",
        "  tick_marks = np.arange(len(classes))\n",
        "  plt.xticks(tick_marks, classes, rotation=45)\n",
        "  plt.yticks(tick_marks, classes)\n",
        "\n",
        "  fmt = '.2f' if normalize else 'd'\n",
        "  thresh = cm.max() / 2.\n",
        "  for i, j in itertools.product(range(cm.shape[0]), range(cm.shape[1])):\n",
        "      plt.text(j, i, format(cm[i, j], fmt), horizontalalignment=\"center\", color=\"white\" if cm[i, j] > thresh else \"black\")\n",
        "  plt.tight_layout()\n",
        "  plt.ylabel('True label')\n",
        "  plt.xlabel('Predicted label') "
      ],
      "execution_count": null,
      "outputs": []
    },
    {
      "cell_type": "code",
      "metadata": {
        "colab": {
          "base_uri": "https://localhost:8080/",
          "height": 328
        },
        "id": "j4QSubrrXwiu",
        "outputId": "b634065c-6249-4663-8775-198c3d42a48a"
      },
      "source": [
        "plot_confusion_matrix(confusion_matrix, ['ELND', 'ELDF', 'ELDR', 'KDUB', 'KDUF', 'KDUR', 'MZBA', 'MZAF', 'MZAR'], normalize=True)"
      ],
      "execution_count": null,
      "outputs": [
        {
          "output_type": "stream",
          "text": [
            "Normalized confusion matrix\n"
          ],
          "name": "stdout"
        },
        {
          "output_type": "display_data",
          "data": {
            "image/png": "[encoded data removed]",
            "text/plain": [
              "<Figure size 432x288 with 2 Axes>"
            ]
          },
          "metadata": {
            "tags": [],
            "needs_background": "light"
          }
        }
      ]
    },
    {
      "cell_type": "markdown",
      "metadata": {
        "id": "tMeavnVxuxB3"
      },
      "source": [
        "**Control Summary:** \n",
        "\n",
        "The control model ran for 30 epochs and achieved a validation accuracy of 91.88% and a loss of 0.271. Overall, the training and validation accuracy of the model began to plateau around 19 epochs. The testing accuracy for the 93.1% and a loss of 0.3344. The model produced a precision of 0.92 for the eland, 0.90 for the kudu bull and 0.97 for the mountain zebra. Overall, 92% of the images for the eland were classified correctly. 7% of the images were classified as a kudu bull and 1% were classified as a zebra. 95% of the images for the kudu bull were classified correctly, with 4% classified as the eland and 1% classified as a mountain zebra. 93% of the images for the mountain zebra were classified correctly, while 5% were classified as elands and 3% were classified as a bull kudu. \n"
      ]
    },
    {
      "cell_type": "markdown",
      "metadata": {
        "id": "fAUFfhaPu9UA"
      },
      "source": [
        "**Experimental Summary**\n",
        "\n",
        "The experimental data produced a validation accuracy of 74.23% and a loss of 1.164. This model appeared to plateau in accuracy and loss at around 25 epochs, but this may reflect a local minimum. With the experimental data, the model produced a test accuracy of 78.19% and a loss of 0.8606. For the eland, the model produced a precision of 0.84 for the side view, 0.60 for the rear view and 0.78 for the front view. For the greater kudu bull, the model produced a precision of 0.85 for the side view, 0.82 for the rear view and 0.86 for the front view. For the mountain zebra, the model produced a precision of 0.81 for the side view, 0.75 for the front and 1.00 for the rear. \n",
        "\n",
        "**Images of the Eland**\n",
        "\n",
        "The confusion matrix revealed that the algorithm correctly identified the side view of the animal more frequently than the front and rear views. The model correctly identified approximately 82% of the photos for the side view of the of the eland, with 9% being identified as front views of the eland, 4% as rear views of the eland and 5% being identified as a bull kudu. The Model correctly identified 67% of the images of the front view of the eland correctly, with 33% being misidentified as the side view. The rear view of the eland fared even worse with only 58% of the images being correctly identified. 25% of these images were misidentified as the rear view and 17% were misidentified as the side view. \n",
        "\n",
        "**Images of the Bull Kudu**\n",
        "\n",
        "The model correctly identified 89% of the photos of the side view of the bull kudu correctly. 5% were misclassified as the side view of an eland, 4% were misclassified as the front view and 2% were misclassified as the side view of a mountain zebra. 64% of the images of the front view of the bull kudu were correctly identified. In contrast, 14% misclassified as the side view of an eland, 14% were misclassified as the side view of the bull kudu and 7% were misclassified as the rear view of the bull kudu. 60% of the images for the rear view of the bull kudu were identified correctly. 30% of these images were misclassified as the side view of the bull kudu and 10% classified as the side view of the eland. \n",
        "\n",
        "\n",
        "**Images of the Mountain Zebra**\n",
        "\n",
        "The model correctly identified 90% of the images for the side view of the mountain zebra. 2% were misclassified as the front view of the zebra, 2% were misclassified as the side view of a bull kudu and 6% were misclassified as the side view of an eland. The algorithm particularly struggled with the front and side views of the mountain zebra, achieving an accuracy of 40% for the front and only 33% for the rear. 33% of the images for the front view of the zebra were misclassified as the front view of the zebra while 27% were surprisingly misclassified as the side view of the eland. 56% of the rear view of the zebra were misclassified as the side view of the zebra while 11% were misclassified as the front view. \n",
        "\n",
        "**Conclusions**\n",
        "\n",
        "Overall, the algorithm proved to be much more capable of identifying different animals than predicted, and creating different categories for the different angles of the animal actually decreased the accuracy of the model, with images frequently being misclassified as the wrong angle of the animal. This was particularly true of side views, which never achieved an accuracy above 67% (eland front view) and were as low as 40% (mountain zebra front view) and 33% (mountain zebra rear view). When the model misclassified an image as the wrong species, it was usually as the side view of an eland. This included 27% of the images of the front view of a zebra, 14% of the images of the side view  of the bull kudu and 10% of the images of the front view of the bull kudu were misclassified as the side view of an eland. \n",
        "\n",
        "One of the issues that this experiment had was that the data was very unbalanced and this may have impacted the results. Originally image augmentation was supposed to be used with the model. It would have a rotation range of 40, a width shift of 0.25, a height shift of 0.25, flipped images and zoomed in images. However, this code actually produced a lower accuracy with the control data leading to the assumption that it would not improve the accuracy of the test. However, this failed to consider that the data was highly unbalanced in the control group. In hindsight, the purpose of the experiment was to see if the algorithm improves with the different angles, not to generate the most accuracy algorithm possible. It is highly probable that the small sample sizes for the rear and side views may have contributed to their failure in the algorithm.\n"
      ]
    },
    {
      "cell_type": "markdown",
      "metadata": {
        "id": "FnJ3e8Mg8wQ4"
      },
      "source": [
        "**Bibliography**\n",
        "\n",
        "Mamun, Iftekher (April 7th, 2019) *A Simple CNN: Multi Image Classifier*. [Towards Data Science] Retrieved from: https://towardsdatascience.com/a-simple-cnn-multi-image-classifier-31c463324fa\n",
        "\n",
        "Chollet, Francois (2018) Deep Learning with Python. Manning Publications, Shelter Island, NY.\n",
        "\n"
      ]
    }
  ]
}